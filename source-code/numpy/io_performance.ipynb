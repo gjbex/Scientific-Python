{
 "cells": [
  {
   "cell_type": "markdown",
   "id": "371cda0f-8bdb-45e6-a731-a7832e5e0238",
   "metadata": {},
   "source": [
    "## Requirements"
   ]
  },
  {
   "cell_type": "code",
   "execution_count": 1,
   "id": "ee4ed95a-8c8a-4e0d-b669-5f8c868d9960",
   "metadata": {},
   "outputs": [],
   "source": [
    "import h5py as h5\n",
    "import numpy as np\n",
    "import pathlib"
   ]
  },
  {
   "cell_type": "markdown",
   "id": "c055faef-d2cc-488c-9aae-d5901ab137a5",
   "metadata": {},
   "source": [
    "## Problem setting"
   ]
  },
  {
   "cell_type": "markdown",
   "id": "b52a7ee9-4c4c-4b27-b89b-3d79ab7c52bf",
   "metadata": {},
   "source": [
    "For some applications I/O takes up a significant fraction of the execution time.  If that is the case, it is worth paying attention to, and choosing the appropriate data format.\n",
    "\n",
    "The numpy library supports text I/O and binary I/O.  Additionally, HDF5 library wrappers such as h5py or pytables can be used to save numpy arrays in HDF5 files, or read them from such files.\n",
    "\n",
    "In this notebook you can compare the performance of various options."
   ]
  },
  {
   "cell_type": "markdown",
   "id": "428d4c06-743c-4402-8188-402238f0b3df",
   "metadata": {},
   "source": [
    "## Data"
   ]
  },
  {
   "cell_type": "markdown",
   "id": "48fcc137-1cad-426a-bc84-816f8531c90f",
   "metadata": {},
   "source": [
    "You can simply use a one-dimensional array to experiment with.  In order to do a useful benchmark, this array shouldn't be either too small, or too large.  The array `data` will be used as the test array."
   ]
  },
  {
   "cell_type": "code",
   "execution_count": 2,
   "id": "721da648-c9bd-45f5-8955-5634784217f1",
   "metadata": {},
   "outputs": [],
   "source": [
    "array_size = 10_000_000\n",
    "data = np.random.uniform(-1.0, 1.0, size=array_size)"
   ]
  },
  {
   "cell_type": "markdown",
   "id": "bf050a11-6869-47a8-b237-d0614ddc6552",
   "metadata": {},
   "source": [
    "## Text I/O"
   ]
  },
  {
   "cell_type": "markdown",
   "id": "d6b5471d-b4e0-44f6-b4f0-52aba6d7d305",
   "metadata": {},
   "source": [
    "Saving your data as text has the advantage that you can read the resulting file using an editor, and it can be read without hassle by application written in any programming language, as well as by a great many existing tools.\n",
    "\n",
    "However, with respect to performance, this may not be your best option.\n",
    "\n",
    "For all experiments with text I/O, the file name is stored in `txt_file_name`."
   ]
  },
  {
   "cell_type": "code",
   "execution_count": 3,
   "id": "4ae1927c-5067-4a00-a06a-e4b3b825abf8",
   "metadata": {},
   "outputs": [],
   "source": [
    "txt_file_name = 'tmp_data.txt'"
   ]
  },
  {
   "cell_type": "code",
   "execution_count": 4,
   "id": "feb41140-85a4-40ac-bf3a-81f23e44a26d",
   "metadata": {},
   "outputs": [
    {
     "name": "stdout",
     "output_type": "stream",
     "text": [
      "CPU times: user 11.7 s, sys: 323 ms, total: 12 s\n",
      "Wall time: 12.2 s\n"
     ]
    }
   ],
   "source": [
    "%time np.savetxt(txt_file_name, data)"
   ]
  },
  {
   "cell_type": "markdown",
   "id": "2d4fe067-b6d7-428b-bfb4-703465a09f06",
   "metadata": {},
   "source": [
    "The numpy library has at least three functions to read data from a text file.  However, they differ in features and especially performance."
   ]
  },
  {
   "cell_type": "markdown",
   "id": "4fe34f4f-c8c6-48d4-b4bd-6b5f683174d7",
   "metadata": {},
   "source": [
    "### `np.loadtxt`"
   ]
  },
  {
   "cell_type": "code",
   "execution_count": 5,
   "id": "0b55d05b-e5eb-4623-a39f-ba251bb81487",
   "metadata": {},
   "outputs": [
    {
     "name": "stdout",
     "output_type": "stream",
     "text": [
      "2.14 s ± 13.7 ms per loop (mean ± std. dev. of 7 runs, 1 loop each)\n"
     ]
    }
   ],
   "source": [
    "%timeit np.loadtxt(txt_file_name)"
   ]
  },
  {
   "cell_type": "markdown",
   "id": "62882b2c-9088-4210-8248-f8eef8c1a8ac",
   "metadata": {},
   "source": [
    "Verifying the loaded data is always wise."
   ]
  },
  {
   "cell_type": "code",
   "execution_count": 6,
   "id": "ed6bd6f7-3320-49a5-a622-4ae11f879047",
   "metadata": {},
   "outputs": [
    {
     "name": "stdout",
     "output_type": "stream",
     "text": [
      "(10000000,) float64\n"
     ]
    }
   ],
   "source": [
    "loaded_data = np.loadtxt(txt_file_name)\n",
    "print(loaded_data.shape, loaded_data.dtype)"
   ]
  },
  {
   "cell_type": "markdown",
   "id": "0bfea113-3adc-4910-92d6-731b6fa25c76",
   "metadata": {},
   "source": [
    "### `np.fromfile`"
   ]
  },
  {
   "cell_type": "code",
   "execution_count": 7,
   "id": "148b76b6-4a74-4847-b60c-8f8c8ab040c9",
   "metadata": {},
   "outputs": [
    {
     "name": "stdout",
     "output_type": "stream",
     "text": [
      "6.22 s ± 89.4 ms per loop (mean ± std. dev. of 7 runs, 1 loop each)\n"
     ]
    }
   ],
   "source": [
    "%timeit np.fromfile(txt_file_name, sep='\\n')"
   ]
  },
  {
   "cell_type": "markdown",
   "id": "2f10b1a4-a99c-4cf2-8f75-5238c5f9f8af",
   "metadata": {},
   "source": [
    "Verifying the loaded data is always wise."
   ]
  },
  {
   "cell_type": "code",
   "execution_count": 8,
   "id": "7111a0e7-3b1a-4f86-b1d6-4179fcbace72",
   "metadata": {},
   "outputs": [
    {
     "name": "stdout",
     "output_type": "stream",
     "text": [
      "(10000000,) float64\n"
     ]
    }
   ],
   "source": [
    "loaded_data = np.fromfile(txt_file_name, sep='\\n')\n",
    "print(loaded_data.shape, loaded_data.dtype)"
   ]
  },
  {
   "cell_type": "markdown",
   "id": "542dc7b5-cff0-4c25-b41b-9e1431d9a9af",
   "metadata": {},
   "source": [
    "### `np.genfromtxt`"
   ]
  },
  {
   "cell_type": "code",
   "execution_count": 9,
   "id": "d46e5d6d-76c9-41c1-969d-6093bd6fb852",
   "metadata": {},
   "outputs": [
    {
     "name": "stdout",
     "output_type": "stream",
     "text": [
      "12.1 s ± 289 ms per loop (mean ± std. dev. of 7 runs, 1 loop each)\n"
     ]
    }
   ],
   "source": [
    "%timeit np.genfromtxt(txt_file_name)"
   ]
  },
  {
   "cell_type": "markdown",
   "id": "b423fedb-0cf6-4b48-a376-e9b1d09d748c",
   "metadata": {},
   "source": [
    "Verifying the loaded data is always wise."
   ]
  },
  {
   "cell_type": "code",
   "execution_count": 10,
   "id": "da2a2190-a9f5-44d4-9dab-905eaaf4e1a8",
   "metadata": {},
   "outputs": [
    {
     "name": "stdout",
     "output_type": "stream",
     "text": [
      "(10000000,) float64\n"
     ]
    }
   ],
   "source": [
    "loaded_data = np.genfromtxt(txt_file_name)\n",
    "print(loaded_data.shape, loaded_data.dtype)"
   ]
  },
  {
   "cell_type": "markdown",
   "id": "acae5141-2524-4cda-9c40-35e6a72f4781",
   "metadata": {},
   "source": [
    "### Conclusion"
   ]
  },
  {
   "cell_type": "markdown",
   "id": "5f257c03-1b76-4a44-a8ce-78d05113de55",
   "metadata": {},
   "source": [
    "It is clear that although all three functions have similar functionality, `np.loadtxt` has a distinct performance edge, being approximately three times faster than `np.fromfile`, and five times faster than `np.genfromtxt`."
   ]
  },
  {
   "cell_type": "code",
   "execution_count": 11,
   "id": "81e22e42-135d-4d85-95aa-3bfdc54400f3",
   "metadata": {},
   "outputs": [],
   "source": [
    "pathlib.Path(txt_file_name).unlink()"
   ]
  },
  {
   "cell_type": "markdown",
   "id": "4418d50c-22a8-48ed-bb02-1cc362289aba",
   "metadata": {},
   "source": [
    "## Binary I/O"
   ]
  },
  {
   "cell_type": "markdown",
   "id": "8ef87f57-c7ad-481b-b8b0-c3a59972ec96",
   "metadata": {},
   "source": [
    "A drawback of storing data in a binary format is that it can't be read directly using an editor.  However, the performance gains are perhaps worth the bother.\n",
    "\n",
    "First, create the data file in binary format."
   ]
  },
  {
   "cell_type": "code",
   "execution_count": 12,
   "id": "d7e3c77e-645f-46c4-8181-aaa4275918ca",
   "metadata": {},
   "outputs": [],
   "source": [
    "bin_file_name = 'tmp_data.npy'"
   ]
  },
  {
   "cell_type": "code",
   "execution_count": 13,
   "id": "7b21dc2d-8f2c-431d-ba49-f06555e88715",
   "metadata": {},
   "outputs": [
    {
     "name": "stdout",
     "output_type": "stream",
     "text": [
      "CPU times: user 8.4 ms, sys: 110 ms, total: 118 ms\n",
      "Wall time: 119 ms\n"
     ]
    }
   ],
   "source": [
    "%time np.save(bin_file_name, data)"
   ]
  },
  {
   "cell_type": "markdown",
   "id": "3742048e-11ec-4ea0-80c6-acce043c3ffc",
   "metadata": {},
   "source": [
    "### `np.load`"
   ]
  },
  {
   "cell_type": "code",
   "execution_count": 14,
   "id": "780cef35-9db5-4fe0-b40c-e2e2500b1839",
   "metadata": {},
   "outputs": [
    {
     "name": "stdout",
     "output_type": "stream",
     "text": [
      "19.3 ms ± 2.65 ms per loop (mean ± std. dev. of 7 runs, 10 loops each)\n"
     ]
    }
   ],
   "source": [
    "%timeit np.load(bin_file_name)"
   ]
  },
  {
   "cell_type": "markdown",
   "id": "1b3eb774-760f-4b2b-bd3d-bd00c9124ea3",
   "metadata": {},
   "source": [
    "Verifying the loaded data is always wise."
   ]
  },
  {
   "cell_type": "code",
   "execution_count": 15,
   "id": "7525c994-79fc-42d1-9026-810a53e1370c",
   "metadata": {},
   "outputs": [
    {
     "name": "stdout",
     "output_type": "stream",
     "text": [
      "(10000000,) float64\n"
     ]
    }
   ],
   "source": [
    "loaded_data = np.load(bin_file_name)\n",
    "print(loaded_data.shape, loaded_data.dtype)"
   ]
  },
  {
   "cell_type": "markdown",
   "id": "98a9f5f1-fb81-4c18-9631-e82df696e033",
   "metadata": {},
   "source": [
    "### `np.fromfile`"
   ]
  },
  {
   "cell_type": "code",
   "execution_count": 16,
   "id": "5eec68f1-6fcd-4ea6-9cfa-e8b838dc4735",
   "metadata": {},
   "outputs": [
    {
     "name": "stdout",
     "output_type": "stream",
     "text": [
      "16.7 ms ± 1.3 ms per loop (mean ± std. dev. of 7 runs, 100 loops each)\n"
     ]
    }
   ],
   "source": [
    "%timeit np.fromfile(bin_file_name)"
   ]
  },
  {
   "cell_type": "markdown",
   "id": "3e43e113-295c-4e68-880c-a789ff0b7d6b",
   "metadata": {},
   "source": [
    "Verifying the loaded data is always wise."
   ]
  },
  {
   "cell_type": "code",
   "execution_count": 17,
   "id": "fb5267ba-6e37-45c7-b2e5-b64476c5c564",
   "metadata": {},
   "outputs": [
    {
     "name": "stdout",
     "output_type": "stream",
     "text": [
      "(10000016,) float64\n"
     ]
    }
   ],
   "source": [
    "loaded_data = np.fromfile(bin_file_name)\n",
    "print(loaded_data.shape, loaded_data.dtype)"
   ]
  },
  {
   "cell_type": "markdown",
   "id": "13c58d18-7eac-4146-9e35-042db70db30e",
   "metadata": {},
   "source": [
    "### Conclusion"
   ]
  },
  {
   "cell_type": "markdown",
   "id": "76332229-c292-4f2f-8603-8007aee53460",
   "metadata": {},
   "source": [
    "Binary I/O is orders of magnitude faster than text I/O."
   ]
  },
  {
   "cell_type": "code",
   "execution_count": 18,
   "id": "d1ce08c0-f7f6-4f4c-9b8f-058b19ebb20b",
   "metadata": {},
   "outputs": [],
   "source": [
    "pathlib.Path(bin_file_name).unlink()"
   ]
  },
  {
   "cell_type": "markdown",
   "id": "b348127d-a962-4e9d-9f73-d23fc94db2f1",
   "metadata": {},
   "source": [
    "## HDF5"
   ]
  },
  {
   "cell_type": "markdown",
   "id": "0cc8e103-eb8f-4428-acf6-79185debbc1f",
   "metadata": {},
   "source": [
    "As a binary format allows much more efficient I/O, is there a way to combine it with the advantages of text-based I/O?  HDF5 to the rescue.  It stores data in binary format, but is self-documenting and, to some extent, human readable (using `hrdump`)."
   ]
  },
  {
   "cell_type": "code",
   "execution_count": 19,
   "id": "50999bbc-a99c-4c6b-bdc8-275c4a35670e",
   "metadata": {},
   "outputs": [],
   "source": [
    "h5_file_name = 'tmp_data.h5'"
   ]
  },
  {
   "cell_type": "code",
   "execution_count": 20,
   "id": "fa7576a2-d24b-4225-92ed-ceff98f58dbe",
   "metadata": {},
   "outputs": [
    {
     "name": "stdout",
     "output_type": "stream",
     "text": [
      "CPU times: user 24 ms, sys: 69.1 ms, total: 93.1 ms\n",
      "Wall time: 94.4 ms\n"
     ]
    }
   ],
   "source": [
    "%%time\n",
    "with h5.File(h5_file_name, 'w') as h5_file:\n",
    "    h5_file.create_dataset('data', data.shape, data.dtype)\n",
    "    h5_file['data'][:] = data[:]"
   ]
  },
  {
   "cell_type": "code",
   "execution_count": 21,
   "id": "ef30122b-d2a6-4ece-a56e-5f8979bd1ee2",
   "metadata": {},
   "outputs": [
    {
     "name": "stdout",
     "output_type": "stream",
     "text": [
      "26.9 ms ± 308 μs per loop (mean ± std. dev. of 7 runs, 10 loops each)\n"
     ]
    }
   ],
   "source": [
    "%%timeit\n",
    "with h5.File(h5_file_name, 'r') as h5_file:\n",
    "    data = np.empty(h5_file['data'].shape, dtype=h5_file['data'].dtype)\n",
    "    data[:] = h5_file['data'][:]"
   ]
  },
  {
   "cell_type": "markdown",
   "id": "2f8230f0-64c0-48ae-be3a-ce0d8f57e63a",
   "metadata": {},
   "source": [
    "Note that a copy of the data is made to get an apples to apples comparison.  Howevever, very often there is no need to do this since computations can be made directly on the dataset."
   ]
  },
  {
   "cell_type": "markdown",
   "id": "7bb27a69-fd8c-4d5d-b04d-ec30a1a74c06",
   "metadata": {},
   "source": [
    "Verifying the loaded data is always wise."
   ]
  },
  {
   "cell_type": "code",
   "execution_count": 22,
   "id": "78a90431-3976-4bb0-811f-40a49307ea0a",
   "metadata": {},
   "outputs": [
    {
     "name": "stdout",
     "output_type": "stream",
     "text": [
      "(10000000,) float64\n"
     ]
    }
   ],
   "source": [
    "with h5.File(h5_file_name, 'r') as h5_file:\n",
    "    loaded_data = np.empty(h5_file['data'].shape, dtype=h5_file['data'].dtype)\n",
    "    loaded_data[:] = h5_file['data'][:]\n",
    "print(loaded_data.shape, loaded_data.dtype)"
   ]
  },
  {
   "cell_type": "markdown",
   "id": "8509c9c9-bb2d-4066-ab28-77a810cc8966",
   "metadata": {},
   "source": [
    "### Conclusion"
   ]
  },
  {
   "cell_type": "markdown",
   "id": "c3e536ab-cc87-4e3c-8e7d-91346717a5ff",
   "metadata": {},
   "source": [
    "There is overhead involved in using HDF5, but this will be mitigated by the advantages of using HDF5 as a format for long-term data storage."
   ]
  },
  {
   "cell_type": "code",
   "execution_count": 23,
   "id": "5d6b4dce-7937-4f9f-a4c9-8d74c8d117e1",
   "metadata": {},
   "outputs": [],
   "source": [
    "pathlib.Path(h5_file_name).unlink()"
   ]
  },
  {
   "cell_type": "markdown",
   "id": "d165b8b1-fc49-404c-b978-5ca4e159a3b5",
   "metadata": {},
   "source": [
    "## Conclusion"
   ]
  },
  {
   "cell_type": "markdown",
   "id": "cd9c9401-6feb-4898-bafd-2595c3ee05c8",
   "metadata": {},
   "source": [
    "HDF5 is a very nice compromise between performance and transparancy."
   ]
  }
 ],
 "metadata": {
  "kernelspec": {
   "display_name": "Python 3 (ipykernel)",
   "language": "python",
   "name": "python3"
  },
  "language_info": {
   "codemirror_mode": {
    "name": "ipython",
    "version": 3
   },
   "file_extension": ".py",
   "mimetype": "text/x-python",
   "name": "python",
   "nbconvert_exporter": "python",
   "pygments_lexer": "ipython3",
   "version": "3.10.9"
  }
 },
 "nbformat": 4,
 "nbformat_minor": 5
}
