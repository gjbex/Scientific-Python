{
 "cells": [
  {
   "cell_type": "markdown",
   "id": "f690b670-c05a-4258-8e92-05eedad0a22e",
   "metadata": {},
   "source": [
    "# Broadcasting in mumpy"
   ]
  },
  {
   "cell_type": "markdown",
   "id": "42f22269-a87c-405f-a7fe-32a640386afd",
   "metadata": {},
   "source": [
    "## Requirements"
   ]
  },
  {
   "cell_type": "code",
   "execution_count": 1,
   "id": "30096d18-61d5-46c1-9b3b-2a1accd0c5a3",
   "metadata": {},
   "outputs": [],
   "source": [
    "import matplotlib.pyplot as plt\n",
    "import numpy as np\n",
    "import sys"
   ]
  },
  {
   "cell_type": "markdown",
   "id": "f02ef19c-58b6-41b8-9fcb-ed3257d81be8",
   "metadata": {},
   "source": [
    "## Motivation"
   ]
  },
  {
   "cell_type": "markdown",
   "id": "4e6c784c-e98a-4124-8887-21958423c31f",
   "metadata": {},
   "source": [
    "numpy compute quite efficiently over arrays, but indexing is quite slow.  So `for` loops over indices should be avoided if possible. numpy has quite a number of tricks up its sleave to help you achieve this.  Broadcasting of arrays is one such."
   ]
  },
  {
   "cell_type": "markdown",
   "id": "399ce3a1-e28f-4952-a12c-548c31dfebed",
   "metadata": {},
   "source": [
    "Consider the following motivating example.  You have a collection of $P$ images, each of which is $M \\times N$ pixels.  The images are grayscale, so each pixel is represented by a single value.\n",
    "The images are stored in a $P \\times M \\times N$-dimensional array."
   ]
  },
  {
   "cell_type": "markdown",
   "id": "3901435b-fab4-410a-8919-cc41ccb7b7a8",
   "metadata": {},
   "source": [
    "Now you may want to do a number of operations on these images.\n",
    "* Change the brightness of these images individually.\n",
    "* Apply the same mask to all of the images.\n",
    "* Darken the upper and lower edge of all the images.\n",
    "* Darken the left and right edge of all the images."
   ]
  },
  {
   "cell_type": "markdown",
   "id": "f5ff1161-da05-443d-b233-c64894ce61ef",
   "metadata": {},
   "source": [
    "It is of course easy to implement each of those operations using `for` loops, but that might not be the optimal approach.  Using numpy's broadcasting feature reduces the number of lines of code to write and can give you better performance."
   ]
  },
  {
   "cell_type": "markdown",
   "id": "efdbe3c0-986a-4302-92c5-c178247277fa",
   "metadata": {},
   "source": [
    "## Broadcasting a scalar"
   ]
  },
  {
   "cell_type": "markdown",
   "id": "50111779-f968-45b4-bad6-4210c278cb62",
   "metadata": {},
   "source": [
    "Broadcasting is a central concept in numpy.  It works for all arithmetic operations `+`, `-`, `*`, `/`, `//`, `**`.\n",
    "\n",
    "A trivial example is given below. "
   ]
  },
  {
   "cell_type": "code",
   "execution_count": 2,
   "id": "06499d99-1bb9-491b-b248-c4d60ecfe793",
   "metadata": {},
   "outputs": [],
   "source": [
    "A = np.arange(0.0, 24.0, 1.0).reshape((4, -1))\n",
    "c = 10.0"
   ]
  },
  {
   "cell_type": "code",
   "execution_count": 3,
   "id": "bb337fd9-8e4f-4fb2-9416-dfafa1f13b37",
   "metadata": {},
   "outputs": [
    {
     "data": {
      "text/plain": [
       "array([[  0.,  10.,  20.,  30.,  40.,  50.],\n",
       "       [ 60.,  70.,  80.,  90., 100., 110.],\n",
       "       [120., 130., 140., 150., 160., 170.],\n",
       "       [180., 190., 200., 210., 220., 230.]])"
      ]
     },
     "execution_count": 3,
     "metadata": {},
     "output_type": "execute_result"
    }
   ],
   "source": [
    "c*A"
   ]
  },
  {
   "cell_type": "markdown",
   "id": "cb4dcebd-3370-43db-9f1c-c2a8207aa6e5",
   "metadata": {},
   "source": [
    "Each element of the array `A` has been multiplied by the value of `b`."
   ]
  },
  {
   "cell_type": "markdown",
   "id": "226c5535-df4f-4ad1-8e4b-5a91d2dccfff",
   "metadata": {},
   "source": [
    "Conceptually, you can view this as if an array `B` were constructed where all elements are equal to `b` and the shape of `B` is identical to that of `A`."
   ]
  },
  {
   "cell_type": "markdown",
   "id": "6f0ade23-c191-4932-bb4f-5677bba261d5",
   "metadata": {},
   "source": [
    "## Broadcasting 1D array"
   ]
  },
  {
   "cell_type": "markdown",
   "id": "261cc1f0-ae17-4b32-8b29-ca2b8e804c67",
   "metadata": {},
   "source": [
    "### Over a 2D array"
   ]
  },
  {
   "cell_type": "markdown",
   "id": "3137a952-fcc4-422a-ac08-5d70ca0f0822",
   "metadata": {},
   "source": [
    "Things get more interesting when you broadcast a one-dimensional array over a two-dimensional array"
   ]
  },
  {
   "cell_type": "code",
   "execution_count": 4,
   "id": "8e3d10db-4bde-45ce-b563-ca1646f75eed",
   "metadata": {},
   "outputs": [],
   "source": [
    "A = np.arange(0.0, 24.0, 1.0).reshape((4, -1))\n",
    "v = np.arange(1.0, 7.0, 1.0)"
   ]
  },
  {
   "cell_type": "code",
   "execution_count": 5,
   "id": "f8a15c18-ae3e-4807-bf5b-24dfcb0ec808",
   "metadata": {},
   "outputs": [
    {
     "data": {
      "text/plain": [
       "(array([[ 0.,  1.,  2.,  3.,  4.,  5.],\n",
       "        [ 6.,  7.,  8.,  9., 10., 11.],\n",
       "        [12., 13., 14., 15., 16., 17.],\n",
       "        [18., 19., 20., 21., 22., 23.]]),\n",
       " array([1., 2., 3., 4., 5., 6.]))"
      ]
     },
     "execution_count": 5,
     "metadata": {},
     "output_type": "execute_result"
    }
   ],
   "source": [
    "A, v"
   ]
  },
  {
   "cell_type": "markdown",
   "id": "c5e1c34e-bdb0-489e-a898-e2b90ae7d5a7",
   "metadata": {},
   "source": [
    "#### Axis 1"
   ]
  },
  {
   "cell_type": "code",
   "execution_count": 6,
   "id": "590d3dc6-5bbf-4a0f-b23e-9f85fa1faded",
   "metadata": {},
   "outputs": [
    {
     "data": {
      "text/plain": [
       "array([[ 1.,  3.,  5.,  7.,  9., 11.],\n",
       "       [ 7.,  9., 11., 13., 15., 17.],\n",
       "       [13., 15., 17., 19., 21., 23.],\n",
       "       [19., 21., 23., 25., 27., 29.]])"
      ]
     },
     "execution_count": 6,
     "metadata": {},
     "output_type": "execute_result"
    }
   ],
   "source": [
    "v + A"
   ]
  },
  {
   "cell_type": "markdown",
   "id": "ab5c3119-50df-432c-bcaf-30ab7f9ae999",
   "metadata": {},
   "source": [
    "The last, or right-most dimension of the arrays `A` and `B` must match.  Just like in the scalar case, it is as if a two-dimensional array `B` has been constructured such that each of its rows has the values of `v`, and the shape of `B` is that of `A`."
   ]
  },
  {
   "cell_type": "markdown",
   "id": "285b6536-4d0a-4282-a017-9b23dd6d01b8",
   "metadata": {},
   "source": [
    "#### Axis 0"
   ]
  },
  {
   "cell_type": "markdown",
   "id": "fe21c439-0dd7-4221-acaf-8a0f898569b4",
   "metadata": {},
   "source": [
    "Of course, you might want to broadcast a vector over the columns of the two-dimensional array rather than its rows."
   ]
  },
  {
   "cell_type": "code",
   "execution_count": 7,
   "id": "83e77d2e-b6f0-40ae-ba2a-156ef8c34610",
   "metadata": {},
   "outputs": [],
   "source": [
    "A = np.arange(0.0, 24.0, 1.0).reshape((4, -1))\n",
    "v = np.arange(1.0, 5.0, 1.0)"
   ]
  },
  {
   "cell_type": "code",
   "execution_count": 8,
   "id": "5e663fc8-faad-4e68-b333-9cc5c5001b1e",
   "metadata": {},
   "outputs": [
    {
     "name": "stderr",
     "output_type": "stream",
     "text": [
      "operands could not be broadcast together with shapes (4,) (4,6) \n"
     ]
    }
   ],
   "source": [
    "try:\n",
    "    v + A\n",
    "except Exception as e:\n",
    "    print(e, file=sys.stderr)"
   ]
  },
  {
   "cell_type": "markdown",
   "id": "05be6dcd-5065-4a15-8aad-56c2059e4fb5",
   "metadata": {},
   "source": [
    "You could of course transpose `A` and then broadcast `v`."
   ]
  },
  {
   "cell_type": "code",
   "execution_count": 9,
   "id": "c9461e5a-5537-4be9-97ab-51ac745670cc",
   "metadata": {},
   "outputs": [],
   "source": [
    "def transpose_cast(A, v):\n",
    "    return np.transpose(v + np.transpose(A))"
   ]
  },
  {
   "cell_type": "code",
   "execution_count": 10,
   "id": "006a8cfb-d034-4432-b54d-0aa6ce890962",
   "metadata": {},
   "outputs": [
    {
     "data": {
      "text/plain": [
       "(array([[ 0.,  1.,  2.,  3.,  4.,  5.],\n",
       "        [ 6.,  7.,  8.,  9., 10., 11.],\n",
       "        [12., 13., 14., 15., 16., 17.],\n",
       "        [18., 19., 20., 21., 22., 23.]]),\n",
       " array([1., 2., 3., 4.]))"
      ]
     },
     "execution_count": 10,
     "metadata": {},
     "output_type": "execute_result"
    }
   ],
   "source": [
    "A, v"
   ]
  },
  {
   "cell_type": "code",
   "execution_count": 11,
   "id": "a2e98731-6135-4694-a444-16efb5c923ab",
   "metadata": {},
   "outputs": [
    {
     "data": {
      "text/plain": [
       "array([[ 1.,  2.,  3.,  4.,  5.,  6.],\n",
       "       [ 8.,  9., 10., 11., 12., 13.],\n",
       "       [15., 16., 17., 18., 19., 20.],\n",
       "       [22., 23., 24., 25., 26., 27.]])"
      ]
     },
     "execution_count": 11,
     "metadata": {},
     "output_type": "execute_result"
    }
   ],
   "source": [
    "transpose_cast(A, v)"
   ]
  },
  {
   "cell_type": "markdown",
   "id": "a371edb2-e064-42a4-974c-e0b64f867746",
   "metadata": {},
   "source": [
    "Of course, you have to transpose twice to recover the original shape of the array `A`."
   ]
  },
  {
   "cell_type": "markdown",
   "id": "2bda16de-aa4f-427d-8bec-8a6d10db92f4",
   "metadata": {},
   "source": [
    "However, there is a more elegant way to do this by turning `v` into a two-dimensional array of shape"
   ]
  },
  {
   "cell_type": "code",
   "execution_count": 12,
   "id": "80170319-f8a3-467e-af7f-c402ff4627dd",
   "metadata": {},
   "outputs": [],
   "source": [
    "def new_axis_cast(A, v):\n",
    "    return A + v[:, None]"
   ]
  },
  {
   "cell_type": "code",
   "execution_count": 13,
   "id": "719e472a-54ae-4e86-834e-57d7d4c1a5bd",
   "metadata": {},
   "outputs": [
    {
     "data": {
      "text/plain": [
       "array([[ 1.,  2.,  3.,  4.,  5.,  6.],\n",
       "       [ 8.,  9., 10., 11., 12., 13.],\n",
       "       [15., 16., 17., 18., 19., 20.],\n",
       "       [22., 23., 24., 25., 26., 27.]])"
      ]
     },
     "execution_count": 13,
     "metadata": {},
     "output_type": "execute_result"
    }
   ],
   "source": [
    "new_axis_cast(A, v)"
   ]
  },
  {
   "cell_type": "markdown",
   "id": "9b657d45-9309-41ac-a828-84ba670d49e6",
   "metadata": {},
   "source": [
    "You can compare the performance of these two approaches using `%timeit`."
   ]
  },
  {
   "cell_type": "code",
   "execution_count": 14,
   "id": "119711a1-ab63-46ca-99d7-3d89ed20cc5c",
   "metadata": {},
   "outputs": [],
   "source": [
    "A = np.random.uniform(0.0, 1.0, size=(2_000, 4_000))\n",
    "v = np.random.uniform(0.0, 1.0, size=(2_000))"
   ]
  },
  {
   "cell_type": "code",
   "execution_count": 15,
   "id": "5ce128c6-8b5d-4f71-80c6-772a3a72065d",
   "metadata": {},
   "outputs": [
    {
     "name": "stdout",
     "output_type": "stream",
     "text": [
      "19.3 ms ± 603 μs per loop (mean ± std. dev. of 7 runs, 10 loops each)\n"
     ]
    }
   ],
   "source": [
    "%timeit transpose_cast(A, v)"
   ]
  },
  {
   "cell_type": "code",
   "execution_count": 16,
   "id": "899f4531-a4b8-4b28-bcce-abb30f7a9fc5",
   "metadata": {},
   "outputs": [
    {
     "name": "stdout",
     "output_type": "stream",
     "text": [
      "20.2 ms ± 1.69 ms per loop (mean ± std. dev. of 7 runs, 10 loops each)\n"
     ]
    }
   ],
   "source": [
    "%timeit new_axis_cast(A, v)"
   ]
  },
  {
   "cell_type": "markdown",
   "id": "d4cc6429-9084-4aaf-ab1d-73f318695e67",
   "metadata": {},
   "source": [
    "As you see, both approaches have about the same runtine, but the second is more compact and idiomatic.  You can see what actually happens by checking the shape of `v[:, None]`."
   ]
  },
  {
   "cell_type": "code",
   "execution_count": 17,
   "id": "73098742-cb2d-4749-9b71-30e9d5cab061",
   "metadata": {},
   "outputs": [
    {
     "data": {
      "text/plain": [
       "(2000, 1)"
      ]
     },
     "execution_count": 17,
     "metadata": {},
     "output_type": "execute_result"
    }
   ],
   "source": [
    "v[:, None].shape"
   ]
  },
  {
   "cell_type": "markdown",
   "id": "8f89d50e-6258-4383-97b1-87b6b897adbb",
   "metadata": {},
   "source": [
    "The one-dimensional array is converted into a two-dimensional array, but the second dimension is simply 1."
   ]
  },
  {
   "cell_type": "markdown",
   "id": "ed29b8e8-f362-4afb-937f-67b60c453517",
   "metadata": {},
   "source": [
    "In fact, using `None` to introduce new dimensions, or new axes in numpy speak is just a shortcut for `np.new_axis`."
   ]
  },
  {
   "cell_type": "code",
   "execution_count": 18,
   "id": "affc0845-84a7-4507-8bc5-adabc0abd764",
   "metadata": {},
   "outputs": [
    {
     "data": {
      "text/plain": [
       "(2000, 1)"
      ]
     },
     "execution_count": 18,
     "metadata": {},
     "output_type": "execute_result"
    }
   ],
   "source": [
    "v[:, np.newaxis].shape"
   ]
  },
  {
   "cell_type": "markdown",
   "id": "ca403d04-4408-49c6-8ab2-fcc02fa57ff9",
   "metadata": {},
   "source": [
    "### Over a 3D array"
   ]
  },
  {
   "cell_type": "markdown",
   "id": "422d67ec-26b6-4314-b365-91d1b5de91b6",
   "metadata": {},
   "source": [
    "For a two-dimensional array, there are two ways to broadcast a one-dimensional array, for a three-dimensional array, there are of course three ways."
   ]
  },
  {
   "cell_type": "code",
   "execution_count": 19,
   "id": "7979fd17-0537-4781-958f-7bb6bdc8c9f8",
   "metadata": {},
   "outputs": [],
   "source": [
    "A = np.arange(0.0, 24.0, 1.0).reshape((2, 3, -1))"
   ]
  },
  {
   "cell_type": "code",
   "execution_count": 20,
   "id": "cb7217af-396b-439a-8bbd-9390f5d7be28",
   "metadata": {
    "scrolled": true
   },
   "outputs": [
    {
     "data": {
      "text/plain": [
       "array([[[ 0.,  1.,  2.,  3.],\n",
       "        [ 4.,  5.,  6.,  7.],\n",
       "        [ 8.,  9., 10., 11.]],\n",
       "\n",
       "       [[12., 13., 14., 15.],\n",
       "        [16., 17., 18., 19.],\n",
       "        [20., 21., 22., 23.]]])"
      ]
     },
     "execution_count": 20,
     "metadata": {},
     "output_type": "execute_result"
    }
   ],
   "source": [
    "A"
   ]
  },
  {
   "cell_type": "code",
   "execution_count": 21,
   "id": "33a07485-0fe1-4207-acf7-3abdd815bf9a",
   "metadata": {},
   "outputs": [
    {
     "data": {
      "text/plain": [
       "(2, 3, 4)"
      ]
     },
     "execution_count": 21,
     "metadata": {},
     "output_type": "execute_result"
    }
   ],
   "source": [
    "A.shape"
   ]
  },
  {
   "cell_type": "markdown",
   "id": "87048dbc-382e-43c5-8e5c-71facef15505",
   "metadata": {},
   "source": [
    "For three-dimensional arrays, the terminology gets a little murky, so it is better to use the axes of the arrays to refer to the operations, rather than rows, columns, and... what exactly?"
   ]
  },
  {
   "cell_type": "markdown",
   "id": "ee02107e-1ecc-4033-8394-a8cf92765f35",
   "metadata": {},
   "source": [
    "#### Axis 2"
   ]
  },
  {
   "cell_type": "code",
   "execution_count": 22,
   "id": "629c2304-5ac0-4517-a79e-dd1fa243ed3a",
   "metadata": {},
   "outputs": [
    {
     "data": {
      "text/plain": [
       "array([[[ 0.,  1.,  2.,  3.],\n",
       "        [ 4.,  5.,  6.,  7.],\n",
       "        [ 8.,  9., 10., 11.]],\n",
       "\n",
       "       [[12., 13., 14., 15.],\n",
       "        [16., 17., 18., 19.],\n",
       "        [20., 21., 22., 23.]]])"
      ]
     },
     "execution_count": 22,
     "metadata": {},
     "output_type": "execute_result"
    }
   ],
   "source": [
    "A"
   ]
  },
  {
   "cell_type": "code",
   "execution_count": 23,
   "id": "379c8bf9-c302-4930-a0a1-9e41b214299d",
   "metadata": {},
   "outputs": [],
   "source": [
    "v = np.arange(1.0, 5.0, 1.0)"
   ]
  },
  {
   "cell_type": "code",
   "execution_count": 24,
   "id": "b11e2554-4d4d-48ea-8fc3-e0b37ea751a6",
   "metadata": {},
   "outputs": [
    {
     "data": {
      "text/plain": [
       "array([[[ 1.,  3.,  5.,  7.],\n",
       "        [ 5.,  7.,  9., 11.],\n",
       "        [ 9., 11., 13., 15.]],\n",
       "\n",
       "       [[13., 15., 17., 19.],\n",
       "        [17., 19., 21., 23.],\n",
       "        [21., 23., 25., 27.]]])"
      ]
     },
     "execution_count": 24,
     "metadata": {},
     "output_type": "execute_result"
    }
   ],
   "source": [
    "v + A"
   ]
  },
  {
   "cell_type": "markdown",
   "id": "98e45847-7aae-4c6e-a70d-8234da9ca3b6",
   "metadata": {},
   "source": [
    "As you can see, `v` has been broadcasted along the rows."
   ]
  },
  {
   "cell_type": "markdown",
   "id": "4db215ec-2ece-44e8-9f86-825eba088192",
   "metadata": {},
   "source": [
    "Note that the result is the same as"
   ]
  },
  {
   "cell_type": "code",
   "execution_count": 25,
   "id": "b7c50374-9d59-449b-8fa8-b1a8f8256e09",
   "metadata": {},
   "outputs": [
    {
     "data": {
      "text/plain": [
       "array([[[ 1.,  3.,  5.,  7.],\n",
       "        [ 5.,  7.,  9., 11.],\n",
       "        [ 9., 11., 13., 15.]],\n",
       "\n",
       "       [[13., 15., 17., 19.],\n",
       "        [17., 19., 21., 23.],\n",
       "        [21., 23., 25., 27.]]])"
      ]
     },
     "execution_count": 25,
     "metadata": {},
     "output_type": "execute_result"
    }
   ],
   "source": [
    "v[None, None, :] + A"
   ]
  },
  {
   "cell_type": "markdown",
   "id": "6117d0f4-bac2-4b50-9459-5bac36d6ecbb",
   "metadata": {},
   "source": [
    "#### Axis 1"
   ]
  },
  {
   "cell_type": "markdown",
   "id": "dce24fd2-46a5-421c-a7db-f2d9653e82ab",
   "metadata": {},
   "source": [
    "As before, you may want to broadcast along the second axis."
   ]
  },
  {
   "cell_type": "code",
   "execution_count": 26,
   "id": "32909de3-26d5-45b6-8ad0-5c3df78ae7b2",
   "metadata": {},
   "outputs": [
    {
     "data": {
      "text/plain": [
       "array([[[ 0.,  1.,  2.,  3.],\n",
       "        [ 4.,  5.,  6.,  7.],\n",
       "        [ 8.,  9., 10., 11.]],\n",
       "\n",
       "       [[12., 13., 14., 15.],\n",
       "        [16., 17., 18., 19.],\n",
       "        [20., 21., 22., 23.]]])"
      ]
     },
     "execution_count": 26,
     "metadata": {},
     "output_type": "execute_result"
    }
   ],
   "source": [
    "A"
   ]
  },
  {
   "cell_type": "code",
   "execution_count": 27,
   "id": "f9bbec7e-ba0c-4cdd-8845-f0ac0f9f4205",
   "metadata": {},
   "outputs": [],
   "source": [
    "v = np.arange(1.0, 4.0, 1.0)"
   ]
  },
  {
   "cell_type": "code",
   "execution_count": 28,
   "id": "40494a9a-968c-4c21-a175-c6f7e5883992",
   "metadata": {},
   "outputs": [
    {
     "data": {
      "text/plain": [
       "array([[[ 1.,  2.,  3.,  4.],\n",
       "        [ 6.,  7.,  8.,  9.],\n",
       "        [11., 12., 13., 14.]],\n",
       "\n",
       "       [[13., 14., 15., 16.],\n",
       "        [18., 19., 20., 21.],\n",
       "        [23., 24., 25., 26.]]])"
      ]
     },
     "execution_count": 28,
     "metadata": {},
     "output_type": "execute_result"
    }
   ],
   "source": [
    "A + v[:, None]"
   ]
  },
  {
   "cell_type": "markdown",
   "id": "581ad498-11fd-470e-9cdc-8f399aadd8d5",
   "metadata": {},
   "source": [
    "Note that the form below is equivalent."
   ]
  },
  {
   "cell_type": "code",
   "execution_count": 29,
   "id": "4c968528-410a-4a2a-929d-e0193bf8fd6b",
   "metadata": {},
   "outputs": [
    {
     "data": {
      "text/plain": [
       "array([[[ 1.,  2.,  3.,  4.],\n",
       "        [ 6.,  7.,  8.,  9.],\n",
       "        [11., 12., 13., 14.]],\n",
       "\n",
       "       [[13., 14., 15., 16.],\n",
       "        [18., 19., 20., 21.],\n",
       "        [23., 24., 25., 26.]]])"
      ]
     },
     "execution_count": 29,
     "metadata": {},
     "output_type": "execute_result"
    }
   ],
   "source": [
    "A + v[None, :, None]"
   ]
  },
  {
   "cell_type": "markdown",
   "id": "7559e7fd-36a9-4d5f-838f-54797139adb6",
   "metadata": {},
   "source": [
    "#### Axis 0"
   ]
  },
  {
   "cell_type": "markdown",
   "id": "d9c5dfb3-d6eb-4c43-aab3-1362e57816ab",
   "metadata": {},
   "source": [
    "Or you might want to broadcast over the first axis."
   ]
  },
  {
   "cell_type": "code",
   "execution_count": 30,
   "id": "f17ea601-5c61-47f0-9824-41b77d686f58",
   "metadata": {},
   "outputs": [
    {
     "data": {
      "text/plain": [
       "array([[[ 0.,  1.,  2.,  3.],\n",
       "        [ 4.,  5.,  6.,  7.],\n",
       "        [ 8.,  9., 10., 11.]],\n",
       "\n",
       "       [[12., 13., 14., 15.],\n",
       "        [16., 17., 18., 19.],\n",
       "        [20., 21., 22., 23.]]])"
      ]
     },
     "execution_count": 30,
     "metadata": {},
     "output_type": "execute_result"
    }
   ],
   "source": [
    "A"
   ]
  },
  {
   "cell_type": "code",
   "execution_count": 31,
   "id": "76b188d1-049d-4b44-875f-3904239c342f",
   "metadata": {},
   "outputs": [],
   "source": [
    "v = np.arange(1.0, 3.0, 1.0)"
   ]
  },
  {
   "cell_type": "code",
   "execution_count": 32,
   "id": "406c6750-ae39-435a-8344-ca8d71bd9308",
   "metadata": {},
   "outputs": [
    {
     "data": {
      "text/plain": [
       "array([[[ 1.,  2.,  3.,  4.],\n",
       "        [ 5.,  6.,  7.,  8.],\n",
       "        [ 9., 10., 11., 12.]],\n",
       "\n",
       "       [[14., 15., 16., 17.],\n",
       "        [18., 19., 20., 21.],\n",
       "        [22., 23., 24., 25.]]])"
      ]
     },
     "execution_count": 32,
     "metadata": {},
     "output_type": "execute_result"
    }
   ],
   "source": [
    "A + v[:, None, None]"
   ]
  },
  {
   "cell_type": "markdown",
   "id": "7ddc4f92-a624-404d-bfb7-1870e66cbeb7",
   "metadata": {},
   "source": [
    "## Broadcasting  a 2D array over a 3D array"
   ]
  },
  {
   "cell_type": "markdown",
   "id": "ba08fd74-2655-4889-8575-faf0bcdc8694",
   "metadata": {},
   "source": [
    "You might want to multiply each layer in a three-dimensional array by a two-dimensional array."
   ]
  },
  {
   "cell_type": "code",
   "execution_count": 33,
   "id": "2389fe5f-3e66-407a-b41f-ba96540de7ab",
   "metadata": {},
   "outputs": [],
   "source": [
    "A = np.arange(0.0, 24.0, 1.0).reshape((2, 3, 4))"
   ]
  },
  {
   "cell_type": "code",
   "execution_count": 34,
   "id": "85c6b1b3-b2aa-4305-90ce-f9103c7895ae",
   "metadata": {},
   "outputs": [
    {
     "data": {
      "text/plain": [
       "array([[[ 0.,  1.,  2.,  3.],\n",
       "        [ 4.,  5.,  6.,  7.],\n",
       "        [ 8.,  9., 10., 11.]],\n",
       "\n",
       "       [[12., 13., 14., 15.],\n",
       "        [16., 17., 18., 19.],\n",
       "        [20., 21., 22., 23.]]])"
      ]
     },
     "execution_count": 34,
     "metadata": {},
     "output_type": "execute_result"
    }
   ],
   "source": [
    "A"
   ]
  },
  {
   "cell_type": "markdown",
   "id": "c627ba7c-b3dc-46ec-839c-b13bfe2be032",
   "metadata": {},
   "source": [
    "#### Axis 0"
   ]
  },
  {
   "cell_type": "markdown",
   "id": "43dbb221-ab73-4bb9-8321-b97c112593aa",
   "metadata": {},
   "source": [
    "As before, this is straightforward."
   ]
  },
  {
   "cell_type": "code",
   "execution_count": 35,
   "id": "62cadab1-9518-4d9b-b01f-2ca4f6d9d60e",
   "metadata": {},
   "outputs": [],
   "source": [
    "F = np.arange(1.0, 13.0, 1.0).reshape((3, -1))"
   ]
  },
  {
   "cell_type": "code",
   "execution_count": 36,
   "id": "a6b4637a-321f-4dd9-b18a-187bc449991f",
   "metadata": {},
   "outputs": [
    {
     "data": {
      "text/plain": [
       "(array([[[ 0.,  1.,  2.,  3.],\n",
       "         [ 4.,  5.,  6.,  7.],\n",
       "         [ 8.,  9., 10., 11.]],\n",
       " \n",
       "        [[12., 13., 14., 15.],\n",
       "         [16., 17., 18., 19.],\n",
       "         [20., 21., 22., 23.]]]),\n",
       " array([[ 1.,  2.,  3.,  4.],\n",
       "        [ 5.,  6.,  7.,  8.],\n",
       "        [ 9., 10., 11., 12.]]))"
      ]
     },
     "execution_count": 36,
     "metadata": {},
     "output_type": "execute_result"
    }
   ],
   "source": [
    "A, F"
   ]
  },
  {
   "cell_type": "code",
   "execution_count": 37,
   "id": "707f3ae3-b479-4d75-8b4e-ce98e93b86a9",
   "metadata": {},
   "outputs": [
    {
     "data": {
      "text/plain": [
       "array([[[ 1.,  3.,  5.,  7.],\n",
       "        [ 9., 11., 13., 15.],\n",
       "        [17., 19., 21., 23.]],\n",
       "\n",
       "       [[13., 15., 17., 19.],\n",
       "        [21., 23., 25., 27.],\n",
       "        [29., 31., 33., 35.]]])"
      ]
     },
     "execution_count": 37,
     "metadata": {},
     "output_type": "execute_result"
    }
   ],
   "source": [
    "F + A"
   ]
  },
  {
   "cell_type": "markdown",
   "id": "ece1e523-7a98-410c-90db-f0f26383e8fb",
   "metadata": {},
   "source": [
    "#### Axis 1"
   ]
  },
  {
   "cell_type": "code",
   "execution_count": 38,
   "id": "5e938cb0-3b26-4c1d-9bfd-033699edb2f8",
   "metadata": {},
   "outputs": [],
   "source": [
    "F = np.arange(1.0, 9.0, 1.0).reshape((2, -1))"
   ]
  },
  {
   "cell_type": "code",
   "execution_count": 39,
   "id": "8e969030-9238-4e8c-ae09-2c1157a78632",
   "metadata": {},
   "outputs": [
    {
     "data": {
      "text/plain": [
       "(array([[[ 0.,  1.,  2.,  3.],\n",
       "         [ 4.,  5.,  6.,  7.],\n",
       "         [ 8.,  9., 10., 11.]],\n",
       " \n",
       "        [[12., 13., 14., 15.],\n",
       "         [16., 17., 18., 19.],\n",
       "         [20., 21., 22., 23.]]]),\n",
       " array([[1., 2., 3., 4.],\n",
       "        [5., 6., 7., 8.]]))"
      ]
     },
     "execution_count": 39,
     "metadata": {},
     "output_type": "execute_result"
    }
   ],
   "source": [
    "A, F"
   ]
  },
  {
   "cell_type": "code",
   "execution_count": 40,
   "id": "cd3d3a85-5ef1-4539-8a9f-c8977b3ae6e1",
   "metadata": {},
   "outputs": [
    {
     "data": {
      "text/plain": [
       "array([[[ 1.,  3.,  5.,  7.],\n",
       "        [ 5.,  7.,  9., 11.],\n",
       "        [ 9., 11., 13., 15.]],\n",
       "\n",
       "       [[17., 19., 21., 23.],\n",
       "        [21., 23., 25., 27.],\n",
       "        [25., 27., 29., 31.]]])"
      ]
     },
     "execution_count": 40,
     "metadata": {},
     "output_type": "execute_result"
    }
   ],
   "source": [
    "A + F[:, None, :]"
   ]
  },
  {
   "cell_type": "markdown",
   "id": "0b476d9b-b084-4328-95d7-6d08651c8255",
   "metadata": {},
   "source": [
    "#### Axis 2"
   ]
  },
  {
   "cell_type": "code",
   "execution_count": 41,
   "id": "b1e9fd50-3d82-4d75-a1de-0994afdfe89b",
   "metadata": {},
   "outputs": [],
   "source": [
    "F = np.arange(1.0, 7.0, 1.0).reshape((2, -1))"
   ]
  },
  {
   "cell_type": "code",
   "execution_count": 42,
   "id": "a868e6eb-a60e-4fe3-b2c2-f330873ce6b6",
   "metadata": {},
   "outputs": [
    {
     "data": {
      "text/plain": [
       "(array([[[ 0.,  1.,  2.,  3.],\n",
       "         [ 4.,  5.,  6.,  7.],\n",
       "         [ 8.,  9., 10., 11.]],\n",
       " \n",
       "        [[12., 13., 14., 15.],\n",
       "         [16., 17., 18., 19.],\n",
       "         [20., 21., 22., 23.]]]),\n",
       " array([[1., 2., 3.],\n",
       "        [4., 5., 6.]]))"
      ]
     },
     "execution_count": 42,
     "metadata": {},
     "output_type": "execute_result"
    }
   ],
   "source": [
    "A, F"
   ]
  },
  {
   "cell_type": "code",
   "execution_count": 43,
   "id": "b83da7ba-32e1-4844-99e5-4a3dbadd4288",
   "metadata": {
    "scrolled": true
   },
   "outputs": [
    {
     "data": {
      "text/plain": [
       "array([[[ 1.,  2.,  3.,  4.],\n",
       "        [ 6.,  7.,  8.,  9.],\n",
       "        [11., 12., 13., 14.]],\n",
       "\n",
       "       [[16., 17., 18., 19.],\n",
       "        [21., 22., 23., 24.],\n",
       "        [26., 27., 28., 29.]]])"
      ]
     },
     "execution_count": 43,
     "metadata": {},
     "output_type": "execute_result"
    }
   ],
   "source": [
    "A + F[:, :, None]"
   ]
  },
  {
   "cell_type": "markdown",
   "id": "5a1b9cdc-cb69-4dfb-b002-de82fc58b9fd",
   "metadata": {},
   "source": [
    "## Back to the images"
   ]
  },
  {
   "cell_type": "markdown",
   "id": "a76fc147-44d5-4335-83d3-d7c8f1cab0e4",
   "metadata": {},
   "source": [
    "First, you can create the collection of \"images\".  You need $P$ images with $M \\times N$ pixels."
   ]
  },
  {
   "cell_type": "code",
   "execution_count": 103,
   "id": "238156e1-789c-4693-829b-5afcd866f45c",
   "metadata": {},
   "outputs": [],
   "source": [
    "nr_images, height, width = 200, 768, 1080"
   ]
  },
  {
   "cell_type": "code",
   "execution_count": 104,
   "id": "2d2d9562-a886-4137-bb4c-679b08c78e84",
   "metadata": {},
   "outputs": [],
   "source": [
    "images = np.random.uniform(0.0, 1.0, size=(nr_images, height, width))"
   ]
  },
  {
   "cell_type": "markdown",
   "id": "56613056-d707-4edf-9f71-7f0daf07d5a3",
   "metadata": {},
   "source": [
    "### Change the brightness of these images individually."
   ]
  },
  {
   "cell_type": "markdown",
   "id": "590c6ded-151d-4387-a1a7-c828142f4027",
   "metadata": {},
   "source": [
    "The first task is to change the brightness of each image individually, so you need a scale factor for each image."
   ]
  },
  {
   "cell_type": "code",
   "execution_count": 105,
   "id": "94cc795d-3dc5-471e-88ee-226d621b0203",
   "metadata": {},
   "outputs": [],
   "source": [
    "brightness_scales = np.random.uniform(0.0, 1.0, size=(nr_images, ))"
   ]
  },
  {
   "cell_type": "markdown",
   "id": "b0aa9b14-8dab-4fae-a131-d5aa00b046d0",
   "metadata": {},
   "source": [
    "First, you might implement this using a `for` loop over the image index."
   ]
  },
  {
   "cell_type": "code",
   "execution_count": 106,
   "id": "4fffb616-8ad0-4320-9def-5d3a41b7738d",
   "metadata": {},
   "outputs": [],
   "source": [
    "def scale_brightness_for(images, brightness_scales):\n",
    "    new_images = np.empty_like(images)\n",
    "    nr_images = len(brightness_scales)\n",
    "    for image_nr in range(nr_images):\n",
    "        new_images[image_nr, :, :] = brightness_scales[image_nr]*images[image_nr, :, :]\n",
    "    return new_images"
   ]
  },
  {
   "cell_type": "code",
   "execution_count": 107,
   "id": "16798f01-c44e-4e7d-b956-fca7bb9869e9",
   "metadata": {},
   "outputs": [
    {
     "name": "stdout",
     "output_type": "stream",
     "text": [
      "539 ms ± 63.9 ms per loop (mean ± std. dev. of 7 runs, 1 loop each)\n"
     ]
    }
   ],
   "source": [
    "%timeit scale_brightness_for(images, brightness_scales)"
   ]
  },
  {
   "cell_type": "markdown",
   "id": "2855a635-237b-401d-8e64-2e7c399b7695",
   "metadata": {},
   "source": [
    "However, this can also be done by broadcasting `brightness_scales` over axis 2 of `images`."
   ]
  },
  {
   "cell_type": "code",
   "execution_count": 108,
   "id": "e38216d7-6841-414c-a402-02d9dc0baeaf",
   "metadata": {},
   "outputs": [],
   "source": [
    "def scale_brightness_broadcast(images, brightness_scales):\n",
    "    return images*brightness_scales[:, None, None]"
   ]
  },
  {
   "cell_type": "code",
   "execution_count": 109,
   "id": "4a77f630-b0c2-4cf1-a1e1-f828c13c5dae",
   "metadata": {},
   "outputs": [
    {
     "name": "stdout",
     "output_type": "stream",
     "text": [
      "454 ms ± 73.9 ms per loop (mean ± std. dev. of 7 runs, 1 loop each)\n"
     ]
    }
   ],
   "source": [
    "%timeit scale_brightness_broadcast(images, brightness_scales)"
   ]
  },
  {
   "cell_type": "markdown",
   "id": "2fbdc4d8-a9c8-427a-883f-b472ad08294e",
   "metadata": {},
   "source": [
    "The broadcast is about 20 % faster.  However, is it correct?"
   ]
  },
  {
   "cell_type": "code",
   "execution_count": 110,
   "id": "acac7a3c-81cc-4386-a483-a6fa2392b580",
   "metadata": {},
   "outputs": [
    {
     "data": {
      "text/plain": [
       "True"
      ]
     },
     "execution_count": 110,
     "metadata": {},
     "output_type": "execute_result"
    }
   ],
   "source": [
    "np.allclose(\n",
    "    scale_brightness_for(images, brightness_scales),\n",
    "    scale_brightness_broadcast(images, brightness_scales)\n",
    ")"
   ]
  },
  {
   "cell_type": "markdown",
   "id": "84fd5d1d-9ce4-47d5-b32e-a04a22a9c911",
   "metadata": {},
   "source": [
    "### Apply the same mask to all of the images."
   ]
  },
  {
   "cell_type": "markdown",
   "id": "38a06988-33d4-4460-948f-5df718041cd6",
   "metadata": {},
   "source": [
    "First, you can create a mask.  The mask has the same size as an image, $M \\times N$ pixels."
   ]
  },
  {
   "cell_type": "code",
   "execution_count": 111,
   "id": "36bd0aea-a1a6-45ae-ad03-43c1cd72752d",
   "metadata": {},
   "outputs": [],
   "source": [
    "_, height, width = images.shape"
   ]
  },
  {
   "cell_type": "code",
   "execution_count": 112,
   "id": "3d022f68-28ed-4bc5-9bd0-cef024a55d0b",
   "metadata": {},
   "outputs": [],
   "source": [
    "mask = np.zeros((height, width))\n",
    "mask[height//4:(3*height)//4, width//4:(3*width//4)] = 1.0"
   ]
  },
  {
   "cell_type": "markdown",
   "id": "386bdf0a-bc6e-4693-baf0-8b403246fddb",
   "metadata": {},
   "source": [
    "You can visualize the mask."
   ]
  },
  {
   "cell_type": "code",
   "execution_count": 113,
   "id": "f3faf991-b8fa-4a43-947c-8373a2e6dc71",
   "metadata": {
    "scrolled": true
   },
   "outputs": [
    {
     "data": {
      "image/png": "[encoded data removed]",
      "text/plain": [
       "<Figure size 640x480 with 1 Axes>"
      ]
     },
     "metadata": {},
     "output_type": "display_data"
    }
   ],
   "source": [
    "plt.imshow(mask, cmap='Grays');"
   ]
  },
  {
   "cell_type": "markdown",
   "id": "b264b47e-39f0-4713-ab37-129ce6eb56fd",
   "metadata": {},
   "source": [
    "Multiplying elementwise with the mask will retain only the pixe in the center of the images."
   ]
  },
  {
   "cell_type": "code",
   "execution_count": 114,
   "id": "17c94263-c3c9-4695-ab9a-163b313ea12c",
   "metadata": {},
   "outputs": [],
   "source": [
    "def mask_for(images, mask):\n",
    "    new_images = np.empty_like(images)\n",
    "    nr_images = images.shape[0]\n",
    "    for image_nr in range(nr_images):\n",
    "        new_images[image_nr, :, :] = mask*images[image_nr, :, :]\n",
    "    return new_images"
   ]
  },
  {
   "cell_type": "code",
   "execution_count": 115,
   "id": "4b184eea-0b2e-4200-8eca-ce4b44a78b35",
   "metadata": {
    "scrolled": true
   },
   "outputs": [
    {
     "name": "stdout",
     "output_type": "stream",
     "text": [
      "579 ms ± 36.1 ms per loop (mean ± std. dev. of 7 runs, 1 loop each)\n"
     ]
    }
   ],
   "source": [
    "%timeit mask_for(images, mask)"
   ]
  },
  {
   "cell_type": "markdown",
   "id": "888327e6-0a93-47b9-a2b5-0e9b0d1c0758",
   "metadata": {},
   "source": [
    "Again, this can be done by broadcasting as well.  You can broadcast along axis 0."
   ]
  },
  {
   "cell_type": "code",
   "execution_count": 116,
   "id": "8e907a1a-abd7-4686-bd3d-a2f6b98d46d4",
   "metadata": {},
   "outputs": [],
   "source": [
    "def mask_broadcast(images, mask):\n",
    "    return images*mask"
   ]
  },
  {
   "cell_type": "code",
   "execution_count": 117,
   "id": "3facbc32-8a87-481a-8d32-42904e953740",
   "metadata": {},
   "outputs": [
    {
     "name": "stdout",
     "output_type": "stream",
     "text": [
      "484 ms ± 58.7 ms per loop (mean ± std. dev. of 7 runs, 1 loop each)\n"
     ]
    }
   ],
   "source": [
    "%timeit mask_broadcast(images, mask)"
   ]
  },
  {
   "cell_type": "markdown",
   "id": "dd5e4713-bf4c-44a5-9e2a-b452afdff463",
   "metadata": {},
   "source": [
    "Again, broadcasting is faster, but by less than 10 %."
   ]
  },
  {
   "cell_type": "code",
   "execution_count": 118,
   "id": "6a913934-1852-4f04-99d3-f2062def2900",
   "metadata": {},
   "outputs": [
    {
     "data": {
      "text/plain": [
       "True"
      ]
     },
     "execution_count": 118,
     "metadata": {},
     "output_type": "execute_result"
    }
   ],
   "source": [
    "np.allclose(mask_for(images, mask), mask_broadcast(images, mask))"
   ]
  },
  {
   "cell_type": "markdown",
   "id": "7aa1ccc8-9a2f-4a31-916b-511fcf8c813d",
   "metadata": {},
   "source": [
    "### Darken the upper and lower edge of all the images."
   ]
  },
  {
   "cell_type": "markdown",
   "id": "f516b4fc-f5d9-4ec7-b245-ea2a3dc6bf5d",
   "metadata": {},
   "source": [
    "You could implement this by creating a mask, but since you already did that, it nicer to try something else.  If you had just a single image, you could create an one-dimensional array with the appropriate scale factor to reduce the brightness of each row."
   ]
  },
  {
   "cell_type": "code",
   "execution_count": 119,
   "id": "8dd6a2ef-06ce-42cb-8646-f8e675aaff17",
   "metadata": {},
   "outputs": [],
   "source": [
    "nr_images, height, _ = images.shape"
   ]
  },
  {
   "cell_type": "code",
   "execution_count": 120,
   "id": "a49dd55c-3525-4604-8155-a2bae45a53c8",
   "metadata": {},
   "outputs": [],
   "source": [
    "height_scale = 0.5*(1.0 + np.cos(np.linspace(-np.pi, np.pi, height)))"
   ]
  },
  {
   "cell_type": "code",
   "execution_count": 121,
   "id": "1e3e6f98-d5c9-4ec8-8e40-a75fb4ad9310",
   "metadata": {},
   "outputs": [
    {
     "data": {
      "image/png": "[encoded data removed]",
      "text/plain": [
       "<Figure size 640x480 with 1 Axes>"
      ]
     },
     "metadata": {},
     "output_type": "display_data"
    }
   ],
   "source": [
    "plt.plot(np.arange(height), height_scale);"
   ]
  },
  {
   "cell_type": "markdown",
   "id": "6df0b18a-8336-49ec-87c1-03bf98ae2f41",
   "metadata": {},
   "source": [
    "Now you can create such a height scale for each image, so this will be a $P \\times M$ array."
   ]
  },
  {
   "cell_type": "code",
   "execution_count": 122,
   "id": "ba00ccb8-a706-403f-96d1-43dc0015fd65",
   "metadata": {},
   "outputs": [],
   "source": [
    "height_scales = np.transpose(np.repeat(height_scale, repeats=nr_images).reshape((height, -1)))"
   ]
  },
  {
   "cell_type": "code",
   "execution_count": 123,
   "id": "0d8fba48-2942-4031-bf10-d9189bd97a92",
   "metadata": {},
   "outputs": [
    {
     "data": {
      "text/plain": [
       "(200, 768)"
      ]
     },
     "execution_count": 123,
     "metadata": {},
     "output_type": "execute_result"
    }
   ],
   "source": [
    "height_scales.shape"
   ]
  },
  {
   "cell_type": "markdown",
   "id": "064d7c8e-78a7-432e-87b6-095c4582151c",
   "metadata": {},
   "source": [
    "All rows in this two-dimensional array should be equal."
   ]
  },
  {
   "cell_type": "code",
   "execution_count": 124,
   "id": "88f6f556-0bb6-460a-aac7-fb38a169d819",
   "metadata": {},
   "outputs": [
    {
     "data": {
      "text/plain": [
       "True"
      ]
     },
     "execution_count": 124,
     "metadata": {},
     "output_type": "execute_result"
    }
   ],
   "source": [
    "np.allclose(height_scales[0, :], height_scales[-1, :])"
   ]
  },
  {
   "cell_type": "markdown",
   "id": "f53b0fe4-333b-4195-a7d4-54ba37346128",
   "metadata": {},
   "source": [
    "However, you want a different scaling for each image, the first should be the darkest, the last the lightest."
   ]
  },
  {
   "cell_type": "code",
   "execution_count": 125,
   "id": "87cf2ecd-52e2-4e23-bcd2-2f2dbc2fdd56",
   "metadata": {},
   "outputs": [],
   "source": [
    "brightness_scale = np.linspace(0.5, 1.0, nr_images)"
   ]
  },
  {
   "cell_type": "markdown",
   "id": "62912111-ed76-438e-99d9-3d3cf5eef32a",
   "metadata": {},
   "source": [
    "Now you can broadcast `brightness_scale` over axis 0 of `height_scales` to modify the latter for each image."
   ]
  },
  {
   "cell_type": "code",
   "execution_count": 126,
   "id": "0659703f-0c59-4ed8-9aae-4f7eb1284294",
   "metadata": {},
   "outputs": [],
   "source": [
    "height_scales *= brightness_scale[:, None]"
   ]
  },
  {
   "cell_type": "markdown",
   "id": "3bf4448b-ae0d-4195-9d4b-b75f17e56c49",
   "metadata": {},
   "source": [
    "Now the height scale of the first and the last image can be compared visually."
   ]
  },
  {
   "cell_type": "code",
   "execution_count": 127,
   "id": "37c22945-45c5-48e8-9b1f-49dfc4efabe8",
   "metadata": {},
   "outputs": [
    {
     "data": {
      "image/png": "[encoded data removed]",
      "text/plain": [
       "<Figure size 640x480 with 1 Axes>"
      ]
     },
     "metadata": {},
     "output_type": "display_data"
    }
   ],
   "source": [
    "plt.plot(np.arange(height), height_scales[0, :], label='first image')\n",
    "plt.plot(np.arange(height), height_scales[-1, :], label='last image')\n",
    "plt.legend();"
   ]
  },
  {
   "cell_type": "markdown",
   "id": "4e7fea13-9571-4396-a749-6c3bfee06404",
   "metadata": {},
   "source": [
    "Indeed, the first iamge will be the darkest, the last the lightest."
   ]
  },
  {
   "cell_type": "code",
   "execution_count": 128,
   "id": "1cd6ea89-d00d-466b-a64c-f1c70506c2c7",
   "metadata": {},
   "outputs": [],
   "source": [
    "def darken_top_bottom_for(images, height_scales):\n",
    "    new_images = np.empty_like(images)\n",
    "    width = images.shape[2]\n",
    "    for column in range(width):\n",
    "        new_images[:, :, column] = images[:, :, column]*height_scales\n",
    "    return new_images"
   ]
  },
  {
   "cell_type": "code",
   "execution_count": 129,
   "id": "da2e7394-efef-4317-b691-ab5eb1cf0894",
   "metadata": {},
   "outputs": [
    {
     "name": "stdout",
     "output_type": "stream",
     "text": [
      "6.55 s ± 243 ms per loop (mean ± std. dev. of 7 runs, 1 loop each)\n"
     ]
    }
   ],
   "source": [
    "%timeit darken_top_bottom_for(images, height_scales)"
   ]
  },
  {
   "cell_type": "code",
   "execution_count": 130,
   "id": "596c3a40-6ec3-45a7-a2fa-8475e9ec0a51",
   "metadata": {},
   "outputs": [],
   "source": [
    "def darken_top_bottom_broadcast(images, height_scales):\n",
    "    return images*height_scales[:, :, None]"
   ]
  },
  {
   "cell_type": "code",
   "execution_count": 131,
   "id": "ba62c41f-0d0e-4d70-b032-87b09baba0f1",
   "metadata": {},
   "outputs": [
    {
     "name": "stdout",
     "output_type": "stream",
     "text": [
      "479 ms ± 81.7 ms per loop (mean ± std. dev. of 7 runs, 1 loop each)\n"
     ]
    }
   ],
   "source": [
    "%timeit darken_top_bottom_broadcast(images, height_scales)"
   ]
  },
  {
   "cell_type": "markdown",
   "id": "48098e60-61ce-41ef-b993-7532781bd0ad",
   "metadata": {},
   "source": [
    "This time, the difference is quite large, broadcasting is almost a factor 10 faster.  Also note that this approach is slightly faster than applying a mask."
   ]
  },
  {
   "cell_type": "code",
   "execution_count": 132,
   "id": "1631af4e-0f3a-48c7-9ac4-1d71bbffa54a",
   "metadata": {},
   "outputs": [
    {
     "data": {
      "text/plain": [
       "True"
      ]
     },
     "execution_count": 132,
     "metadata": {},
     "output_type": "execute_result"
    }
   ],
   "source": [
    "np.allclose(\n",
    "    darken_top_bottom_for(images, height_scales),\n",
    "    darken_top_bottom_broadcast(images, height_scales)\n",
    ")"
   ]
  },
  {
   "cell_type": "markdown",
   "id": "9931e630-7851-4b6c-b20d-2f34ce91832c",
   "metadata": {},
   "source": [
    "Just for fun, you can also compare it to the truly pedestrian approach."
   ]
  },
  {
   "cell_type": "code",
   "execution_count": 133,
   "id": "fe3ad29d-2af5-4bbc-bdbb-aaa93bb1cda8",
   "metadata": {},
   "outputs": [],
   "source": [
    "def darken_top_bottom_pedestrian(images, height_scale, brightness_scale):\n",
    "    new_images = np.empty_like(images)\n",
    "    nr_images, height, width = images.shape\n",
    "    for image_nr in range(nr_images):\n",
    "        for column in range(width):\n",
    "            new_images[image_nr, :, column] = \\\n",
    "                images[image_nr, :, column]*height_scale*brightness_scale[image_nr]\n",
    "    return new_images"
   ]
  },
  {
   "cell_type": "code",
   "execution_count": 134,
   "id": "61743e83-5914-4210-bfff-7bcef0fc92fe",
   "metadata": {},
   "outputs": [
    {
     "name": "stdout",
     "output_type": "stream",
     "text": [
      "1.99 s ± 76.5 ms per loop (mean ± std. dev. of 7 runs, 1 loop each)\n"
     ]
    }
   ],
   "source": [
    "%timeit darken_top_bottom_pedestrian(images, height_scale, brightness_scale)"
   ]
  },
  {
   "cell_type": "markdown",
   "id": "aa415eb6-dab4-4ec3-9ee1-8254eff839af",
   "metadata": {},
   "source": [
    "Interestingly, it is faster than the single `for` loop approach, but still slower by far when compared to the broadcasting approach."
   ]
  },
  {
   "cell_type": "code",
   "execution_count": 135,
   "id": "87e5c5db-9581-40c7-9cdc-549598a8ecc1",
   "metadata": {},
   "outputs": [
    {
     "data": {
      "text/plain": [
       "True"
      ]
     },
     "execution_count": 135,
     "metadata": {},
     "output_type": "execute_result"
    }
   ],
   "source": [
    "np.allclose(\n",
    "    darken_top_bottom_pedestrian(images, height_scale, brightness_scale),\n",
    "    darken_top_bottom_broadcast(images, height_scales)\n",
    ")"
   ]
  },
  {
   "cell_type": "markdown",
   "id": "e41e2284-9a26-4371-a76e-d274c5462c86",
   "metadata": {},
   "source": [
    "### Darken the left and right edge of all the images."
   ]
  },
  {
   "cell_type": "markdown",
   "id": "33104218-d69a-4cb4-bbc7-8778e798b140",
   "metadata": {},
   "source": [
    "This task is of course very similar to the previous one"
   ]
  },
  {
   "cell_type": "code",
   "execution_count": 136,
   "id": "ade94634-b05e-4a16-9a0b-700f276a5887",
   "metadata": {},
   "outputs": [],
   "source": [
    "nr_images, _, width = images.shape"
   ]
  },
  {
   "cell_type": "code",
   "execution_count": 137,
   "id": "8578377e-bf3a-469b-bfee-2002c170c443",
   "metadata": {},
   "outputs": [],
   "source": [
    "width_scale = 0.5*(1.0 + np.cos(np.linspace(-np.pi, np.pi, width)))"
   ]
  },
  {
   "cell_type": "code",
   "execution_count": 138,
   "id": "389bc870-ad59-441c-858f-a5b2795c5e22",
   "metadata": {},
   "outputs": [
    {
     "data": {
      "image/png": "[encoded data removed]",
      "text/plain": [
       "<Figure size 640x480 with 1 Axes>"
      ]
     },
     "metadata": {},
     "output_type": "display_data"
    }
   ],
   "source": [
    "plt.plot(np.arange(width), width_scale);"
   ]
  },
  {
   "cell_type": "code",
   "execution_count": 139,
   "id": "36931bc8-6817-4633-a1d5-8bfc596470fd",
   "metadata": {},
   "outputs": [],
   "source": [
    "width_scales = np.transpose(np.repeat(width_scale, repeats=nr_images).reshape((width, -1)))"
   ]
  },
  {
   "cell_type": "code",
   "execution_count": 140,
   "id": "0b5377b2-f0d5-4772-9f36-e5d5f4662487",
   "metadata": {},
   "outputs": [
    {
     "data": {
      "text/plain": [
       "(200, 1080)"
      ]
     },
     "execution_count": 140,
     "metadata": {},
     "output_type": "execute_result"
    }
   ],
   "source": [
    "width_scales.shape"
   ]
  },
  {
   "cell_type": "markdown",
   "id": "1deec71f-c6ea-44f4-a2ba-62fdb294a6c7",
   "metadata": {},
   "source": [
    "The brightness transformation can also be visualized as a heatmap to verify that the first image will be the darkest, and the last the lightest."
   ]
  },
  {
   "cell_type": "code",
   "execution_count": 141,
   "id": "793fb78f-f050-405d-a0c3-db303a9f7787",
   "metadata": {},
   "outputs": [
    {
     "data": {
      "image/png": "[encoded data removed]",
      "text/plain": [
       "<Figure size 640x480 with 1 Axes>"
      ]
     },
     "metadata": {},
     "output_type": "display_data"
    }
   ],
   "source": [
    "plt.imshow(width_scales, cmap='Greys')\n",
    "plt.xlabel('width')\n",
    "plt.ylabel('image');"
   ]
  },
  {
   "cell_type": "raw",
   "id": "b4bf7a46-2c9e-4e81-b74b-46f85cf8ab41",
   "metadata": {},
   "source": [
    "The implementation using the `for` loop is straightforward."
   ]
  },
  {
   "cell_type": "code",
   "execution_count": 142,
   "id": "ec812a2b-bff0-4396-8176-0b6c8bb57a43",
   "metadata": {},
   "outputs": [],
   "source": [
    "def darken_left_right_for(images, width_scales):\n",
    "    new_images = np.empty_like(images)\n",
    "    height = images.shape[1]\n",
    "    for row in range(height):\n",
    "        new_images[:, row, :] = images[:, row, :]*width_scales\n",
    "    return new_images"
   ]
  },
  {
   "cell_type": "code",
   "execution_count": 143,
   "id": "f71aa808-9a3e-4a9c-94e9-914976c2ccc0",
   "metadata": {},
   "outputs": [
    {
     "name": "stdout",
     "output_type": "stream",
     "text": [
      "789 ms ± 157 ms per loop (mean ± std. dev. of 7 runs, 1 loop each)\n"
     ]
    }
   ],
   "source": [
    "%timeit darken_left_right_for(images, width_scales)"
   ]
  },
  {
   "cell_type": "code",
   "execution_count": 144,
   "id": "777ca7ed-7975-49ee-a87d-8cf0dd14e096",
   "metadata": {},
   "outputs": [],
   "source": [
    "def darken_left_right_broadcast(images, width_scales):\n",
    "    return images*width_scales[:, None, :]"
   ]
  },
  {
   "cell_type": "code",
   "execution_count": 145,
   "id": "1d270689-1002-4bed-8a4e-b8508952e86f",
   "metadata": {},
   "outputs": [
    {
     "name": "stdout",
     "output_type": "stream",
     "text": [
      "573 ms ± 107 ms per loop (mean ± std. dev. of 7 runs, 1 loop each)\n"
     ]
    }
   ],
   "source": [
    "%timeit darken_left_right_broadcast(images, width_scales)"
   ]
  },
  {
   "cell_type": "markdown",
   "id": "0de05f12-ced5-4763-bdcc-9e93fc27f70c",
   "metadata": {},
   "source": [
    "Again, the broadcast version is faster, although not by as much as in the previous case."
   ]
  },
  {
   "cell_type": "code",
   "execution_count": 146,
   "id": "c73a3347-0ece-45c9-b897-d524f42edeec",
   "metadata": {},
   "outputs": [
    {
     "data": {
      "text/plain": [
       "True"
      ]
     },
     "execution_count": 146,
     "metadata": {},
     "output_type": "execute_result"
    }
   ],
   "source": [
    "np.allclose(\n",
    "    darken_left_right_for(images, width_scales),\n",
    "    darken_left_right_broadcast(images, width_scales)\n",
    ")"
   ]
  },
  {
   "cell_type": "markdown",
   "id": "ae8258aa-e969-4970-8536-50f1378f8d7e",
   "metadata": {},
   "source": [
    "Again, we can compare with the naive implementation."
   ]
  },
  {
   "cell_type": "code",
   "execution_count": 147,
   "id": "32507538-e6b1-4e91-8971-ba17e1c4e314",
   "metadata": {},
   "outputs": [],
   "source": [
    "def darken_left_right_pedestrian(images, width_scale, brightness_scale):\n",
    "    new_images = np.empty_like(images)\n",
    "    nr_images, height, _ = images.shape\n",
    "    for image_nr in range(nr_images):\n",
    "        for row in range(height):\n",
    "            new_images[image_nr, row, :] = \\\n",
    "                images[image_nr, row, :]*width_scale*brightness_scale[image_nr]\n",
    "    return new_images"
   ]
  },
  {
   "cell_type": "code",
   "execution_count": 148,
   "id": "2a2a5331-4f26-49e1-93c3-1cb4882267c6",
   "metadata": {},
   "outputs": [
    {
     "name": "stdout",
     "output_type": "stream",
     "text": [
      "968 ms ± 103 ms per loop (mean ± std. dev. of 7 runs, 1 loop each)\n"
     ]
    }
   ],
   "source": [
    "%timeit darken_left_right_pedestrian(images, width_scale, brightness_scale)"
   ]
  },
  {
   "cell_type": "markdown",
   "id": "ba32be85-66c6-4ce2-8129-15b563837b73",
   "metadata": {},
   "source": [
    "Interestingly, it is faster than the single `for` loop approach, but still slower by far when compared to the broadcasting approach."
   ]
  },
  {
   "cell_type": "code",
   "execution_count": 149,
   "id": "05a28d6b-d866-400e-8bcb-4a4e7f01c192",
   "metadata": {},
   "outputs": [
    {
     "data": {
      "text/plain": [
       "False"
      ]
     },
     "execution_count": 149,
     "metadata": {},
     "output_type": "execute_result"
    }
   ],
   "source": [
    "np.allclose(\n",
    "    darken_left_right_pedestrian(images, width_scale, brightness_scale),\n",
    "    darken_left_right_broadcast(images, width_scales)\n",
    ")"
   ]
  },
  {
   "cell_type": "markdown",
   "id": "e38c0308-7ae9-485d-b538-0f69124507df",
   "metadata": {},
   "source": [
    "## Discussion"
   ]
  },
  {
   "cell_type": "markdown",
   "id": "471eb127-a819-4fe0-aeab-6434713fedf0",
   "metadata": {},
   "source": [
    "In all of the four scenarios considered, broadcasting alays had a better performance than `for` loops.  It is also intereesting to notice that although the four scenarios are different, each of them does the exact same number of computations.  This illustrates that the order in which elements of multi-dimensional arrays are accessed si quite important.\n",
    "\n",
    "It pays of the consider this when designing your software, since making changes to the data representation may become quite costly later in the software development process.\n",
    "\n",
    "Also note that the operations we implemented in the use cases should be done using optimized libraries such as, e.g., OpenCV."
   ]
  }
 ],
 "metadata": {
  "kernelspec": {
   "display_name": "Python 3 (ipykernel)",
   "language": "python",
   "name": "python3"
  },
  "language_info": {
   "codemirror_mode": {
    "name": "ipython",
    "version": 3
   },
   "file_extension": ".py",
   "mimetype": "text/x-python",
   "name": "python",
   "nbconvert_exporter": "python",
   "pygments_lexer": "ipython3",
   "version": "3.10.9"
  }
 },
 "nbformat": 4,
 "nbformat_minor": 5
}
