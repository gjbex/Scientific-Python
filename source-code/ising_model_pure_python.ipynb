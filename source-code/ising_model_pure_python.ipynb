{
 "cells": [
  {
   "cell_type": "markdown",
   "id": "6c7321ac-f110-42a1-9db0-1ada19ea6a58",
   "metadata": {},
   "source": [
    "# Requirements"
   ]
  },
  {
   "cell_type": "code",
   "execution_count": 38,
   "id": "d2854c99-8bdf-48d8-aa37-ebd05709e1d3",
   "metadata": {},
   "outputs": [],
   "source": [
    "import abc\n",
    "import collections\n",
    "import copy\n",
    "import itertools\n",
    "import math\n",
    "import random\n",
    "import statistics"
   ]
  },
  {
   "cell_type": "markdown",
   "id": "65063840-c7c9-4bc4-b4b3-ba7a3c7ff1da",
   "metadata": {},
   "source": [
    "# Ising system"
   ]
  },
  {
   "cell_type": "markdown",
   "id": "083aedf6-aeef-4f05-96de-bd753958ce5f",
   "metadata": {},
   "source": [
    "An Ising system is defined as an $N$-dimensional grid of spins.  Each spin interacts with its nearest neighboours, and is subject to an external magnetic field.  Here, you will only consider a 2-dimensional system that is defined as $s_{kl}$ for $0 \\le k \\lt K$ and $0 \\le l \\lt L$, so $K \\cdot L$ spins in total.  Conventially, spins are denoted by $s_i$ for $0 \\le i < N = K \\cdot L$.\n",
    "\n",
    "The Hamiltonian of the system is given by\n",
    "$$\n",
    "    H = -J \\sum_{\\langle i, j \\rangle} s_i s_j - h \\sum_{j=0}^{N-1} s_j\n",
    "$$\n",
    "The sum index $\\langle i, j \\rangle$ denotes the sum over pairs nearest neighbor spins, where each pair is counted only once.  Periodic boundary conditions are applied, so, e.g., the downward neighbor of a spin on the last row will be the corresponding spin on the upper row, and similar for the other edges.\n",
    "\n",
    "This Hamiltonian will be used to define the system's dynamics (see later)."
   ]
  },
  {
   "cell_type": "markdown",
   "id": "99cd95d7-d7ec-4250-a0c1-792167760962",
   "metadata": {},
   "source": [
    "The implementation of a class to represent Ising systems is straightforward.  Note that this implementation is *not* efficient."
   ]
  },
  {
   "cell_type": "code",
   "execution_count": 2,
   "id": "13c127ad-a665-4c74-8d14-29370e205438",
   "metadata": {},
   "outputs": [],
   "source": [
    "class IsingSystem:\n",
    "    '''Class to represent 2-dimensional Ising systems of `nr_rows` by `nr_cols`\n",
    "    spins.  The interaction between the spins is characterized by `J`, that of\n",
    "    the spins with an external magnetic field by `h`.\n",
    "    \n",
    "    A seed initializes the random number generator for reproducibility.\n",
    "    '''\n",
    "\n",
    "    def __init__(self, *, nr_rows, nr_cols, J, h):\n",
    "        '''Initializes an Ising spin system.\n",
    "        \n",
    "        Parameters\n",
    "        ----------\n",
    "        nr_rows: int\n",
    "          number of spin rows\n",
    "        nr_cols: int\n",
    "          number of spin columns\n",
    "        J: float\n",
    "          strength of the interaction between neighboring spins\n",
    "        h: float\n",
    "          strength of the interaction between a spin and an external magnetic field\n",
    "        seed: int\n",
    "          seed for the random number generator that initializes the spin values\n",
    "        '''\n",
    "        self._nr_rows = nr_rows\n",
    "        self._nr_cols = nr_cols\n",
    "        self._spins = [random.choice((-1, 1)) for _ in range(nr_rows*nr_cols)]\n",
    "        self._J = J\n",
    "        self._h = h\n",
    "\n",
    "    @property\n",
    "    def nr_rows(self):\n",
    "        '''Returns the number of spin rows in the system.\n",
    "        \n",
    "        Returns\n",
    "        -------\n",
    "        int\n",
    "          number of spin rows in the system\n",
    "        '''\n",
    "        return self._nr_rows\n",
    "\n",
    "    @property\n",
    "    def nr_cols(self):\n",
    "        '''Returns the number of spin columns in the system.\n",
    "        \n",
    "        Returns\n",
    "        -------\n",
    "        int\n",
    "          number of spin columns in the system\n",
    "        '''\n",
    "        return self._nr_cols\n",
    "\n",
    "    @property\n",
    "    def N(self):\n",
    "        '''Returns the number of spins in the Ising system, i.e., the number of\n",
    "        rows times the number of columns.\n",
    "        \n",
    "        Returns\n",
    "        -------\n",
    "        int\n",
    "          number of spins in the system\n",
    "        '''\n",
    "        return self.nr_rows*self.nr_cols\n",
    "\n",
    "    def __getitem__(self, item):\n",
    "        '''Accessor to get a spin value.\n",
    "        \n",
    "        Parameters\n",
    "        ----------\n",
    "        i: int\n",
    "          row index of the spin\n",
    "        j: int\n",
    "          column index of the spin\n",
    "          \n",
    "        Returns\n",
    "        -------\n",
    "        int:\n",
    "          value of the spin at row i, column j\n",
    "        '''\n",
    "        return self._spins[(item[0] % self.nr_rows)*self.nr_rows + item[1] % self.nr_cols]\n",
    "\n",
    "    def __setitem__(self, item, value):\n",
    "        '''Accessor to set a spin value.\n",
    "        \n",
    "        Parameters\n",
    "        ----------\n",
    "        i: int\n",
    "          row index of the spin\n",
    "        j: int\n",
    "          column index of the spin\n",
    "        value: int\n",
    "          value to set the spin to\n",
    "        '''\n",
    "        self._spins[(item[0] % self.nr_rows)*self.nr_rows + item[1] % self.nr_cols] = value\n",
    "\n",
    "    @property\n",
    "    def J(self):\n",
    "        '''Returns `J`, the strength of the interaction between neighboring spins.\n",
    "        \n",
    "        Returns\n",
    "        -------\n",
    "        float\n",
    "          strength of the interaction between neighboring spins\n",
    "        '''\n",
    "        return self._J\n",
    "\n",
    "    @property\n",
    "    def h(self):\n",
    "        '''Returns `J`, the strength of the interaction between a spin and an\n",
    "        external magnetic field\n",
    "        \n",
    "        Returns\n",
    "        -------\n",
    "        float\n",
    "          strength of the interaction between a spin and an external magnetic\n",
    "          field\n",
    "        '''\n",
    "        return self._h\n",
    "\n",
    "    def __repr__(self):\n",
    "        '''Returns a representation of an Ising system that allows to recreate\n",
    "        its original state for reproducibility.\n",
    "\n",
    "        Returns\n",
    "        -------\n",
    "        str\n",
    "          string representation of the initial state of the Ising system\n",
    "\n",
    "        Note\n",
    "        ----\n",
    "        This representation *can not* be used for checkpointing/serialization.\n",
    "        '''\n",
    "        return f\"\"\"{{\n",
    "    'nr_rows': {self.nr_rows},\n",
    "    'nr_cols': {self.nr_cols},\n",
    "    'J': {self.J},\n",
    "    'h': {self.h},\n",
    "}}\"\"\"\n",
    "\n",
    "    def __str__(self):\n",
    "        '''Returns a human readable representation of an Ising system for debugging\n",
    "        purposes.  Note that -1 values are rendered as 0 to improve visual layout.\n",
    "\n",
    "        Returns\n",
    "        -------\n",
    "        str\n",
    "          string representation of the initial state of the Ising system\n",
    "\n",
    "        Note\n",
    "        ----\n",
    "        This representation *should not* be used for checkpointing/serialization as\n",
    "        -1 values are rendered as 0.\n",
    "        '''\n",
    "        return '\\n'.join(\n",
    "            (''.join('1' if self[i, j] > 0 else '0' for j in range(self.nr_cols))\n",
    "             for i in range(self.nr_rows))\n",
    "        )"
   ]
  },
  {
   "cell_type": "markdown",
   "id": "f7803b10-49a7-4ced-a8ae-9f8b8c071f5c",
   "metadata": {},
   "source": [
    "Note that since the `__init__` method uses the seed provided as an argument to seed the numpy random number generator, and the representation provides that string, an instance of an Ising system can always be reproduced from its representation, without having to contain the individual spins at all.  Incidentally, initializing the system randomly may lead to slow convergence near the critical temperature.\n",
    "\n",
    "Also note that to make the string representation visually more pleasing, the $-1$ spins are represented as $0$.\n",
    "\n",
    "The `IsingSystem` class is essentially a wrapper for a numpy array.  This allows to later optimize the implementation without having to modify the API."
   ]
  },
  {
   "cell_type": "markdown",
   "id": "ebdca70a-4b22-41e1-b977-49cc9f65bf00",
   "metadata": {},
   "source": [
    "You can test the class by\n",
    "\n",
    "  * creating an instance,\n",
    "  * checking its representation,\n",
    "  * checking its string representation,\n",
    "  * get the value of a spin,\n",
    "  * set the value of a sping, and\n",
    "  * show the string representation again."
   ]
  },
  {
   "cell_type": "code",
   "execution_count": 3,
   "id": "2d0b5964-2299-48b5-95f4-d48c4bab2b40",
   "metadata": {},
   "outputs": [],
   "source": [
    "ising = IsingSystem(nr_rows=10, nr_cols=10, J=1.0, h=1.0)"
   ]
  },
  {
   "cell_type": "code",
   "execution_count": 4,
   "id": "14f9f55c-3093-4ee5-8a57-46ecde3bfb77",
   "metadata": {},
   "outputs": [
    {
     "data": {
      "text/plain": [
       "{\n",
       "    'nr_rows': 10,\n",
       "    'nr_cols': 10,\n",
       "    'J': 1.0,\n",
       "    'h': 1.0,\n",
       "}"
      ]
     },
     "execution_count": 4,
     "metadata": {},
     "output_type": "execute_result"
    }
   ],
   "source": [
    "ising"
   ]
  },
  {
   "cell_type": "code",
   "execution_count": 5,
   "id": "cdde4b32-7bb7-4dfb-935f-20c47686f778",
   "metadata": {},
   "outputs": [
    {
     "name": "stdout",
     "output_type": "stream",
     "text": [
      "0000010010\n",
      "1001100010\n",
      "1010000101\n",
      "1001010001\n",
      "1010100101\n",
      "1110001101\n",
      "1100001000\n",
      "1100011100\n",
      "0101000100\n",
      "0010110101\n"
     ]
    }
   ],
   "source": [
    "print(ising)"
   ]
  },
  {
   "cell_type": "code",
   "execution_count": 6,
   "id": "0f526f45-a8af-4761-95ce-f2a2097877ed",
   "metadata": {},
   "outputs": [
    {
     "data": {
      "text/plain": [
       "1"
      ]
     },
     "execution_count": 6,
     "metadata": {},
     "output_type": "execute_result"
    }
   ],
   "source": [
    "ising[1, 4]"
   ]
  },
  {
   "cell_type": "code",
   "execution_count": 7,
   "id": "fc42bca1-c185-4472-90f3-1d6ae81734f3",
   "metadata": {},
   "outputs": [],
   "source": [
    "ising [1, 4] = -1"
   ]
  },
  {
   "cell_type": "code",
   "execution_count": 8,
   "id": "57e810b0-fe30-4dbb-81de-43612753c1a2",
   "metadata": {},
   "outputs": [
    {
     "name": "stdout",
     "output_type": "stream",
     "text": [
      "0000010010\n",
      "1001000010\n",
      "1010000101\n",
      "1001010001\n",
      "1010100101\n",
      "1110001101\n",
      "1100001000\n",
      "1100011100\n",
      "0101000100\n",
      "0010110101\n"
     ]
    }
   ],
   "source": [
    "print(ising)"
   ]
  },
  {
   "cell_type": "code",
   "execution_count": 9,
   "id": "a59dfea9-4910-4499-99b4-cb8f751815ee",
   "metadata": {},
   "outputs": [],
   "source": [
    "del ising"
   ]
  },
  {
   "cell_type": "markdown",
   "id": "bae6eb9d-858e-47d4-8aff-322e6d8800b8",
   "metadata": {},
   "source": [
    "# Measures"
   ]
  },
  {
   "cell_type": "markdown",
   "id": "dc53d9ab-ae0d-4e4b-8e37-1a93b875548d",
   "metadata": {},
   "source": [
    "Several measures can be computed to characterize an Ising system, e.g.,\n",
    "\n",
    "  * the magnetization,\n",
    "  * the energy."
   ]
  },
  {
   "cell_type": "markdown",
   "id": "0e990376-7c28-4f1e-b6ed-cba7cce33bef",
   "metadata": {},
   "source": [
    "Since many measures share implementation details, it is convenient to define an abstract base class `Measure` that encapsulates the common functionality."
   ]
  },
  {
   "cell_type": "code",
   "execution_count": 10,
   "id": "11cdc23e-a3a7-4312-8eef-9f13c41cb06b",
   "metadata": {},
   "outputs": [],
   "source": [
    "class AbstractMeasure(abc.ABC):\n",
    "    '''abstract class that represents a measure of the system such as the\n",
    "    magnetization or the energy.  It is however more general and can be used\n",
    "    for non-scalar measures as well.\n",
    "    '''\n",
    "\n",
    "    def __init__(self, name, /, *, headers=None):\n",
    "        '''Base initialization method\n",
    "\n",
    "        Parameters\n",
    "        ----------\n",
    "        name: str\n",
    "          the measure's name\n",
    "        headers: list[str] | tuple[str] | None\n",
    "          the headers for the measure, if `None`, the measure is assumed to be scalar\n",
    "          and the name is the sole header\n",
    "        '''\n",
    "        self._name = name\n",
    "        if headers is None:\n",
    "            self._headers = (self._name, )\n",
    "        else:\n",
    "            self._headers = tuple(headers)\n",
    "        self._sep = ' '\n",
    "        self._values = []\n",
    "\n",
    "    @property\n",
    "    def name(self):\n",
    "        '''Returs the measure's name\n",
    "\n",
    "        Returns\n",
    "        -------\n",
    "        str\n",
    "          the measure's name\n",
    "        '''\n",
    "        return self._name\n",
    "\n",
    "    @property\n",
    "    def headers(self):\n",
    "        '''Returns a string representation of the headers for the measure, separated\n",
    "        by the `sep` value passed on initialization.\n",
    "\n",
    "        Returns\n",
    "        -------\n",
    "        str\n",
    "            column headers for this measure\n",
    "        '''\n",
    "        return self._sep.join(self._headers)\n",
    "\n",
    "    @property\n",
    "    def sep(self):\n",
    "        '''Returns the separator for textual output.\n",
    "        \n",
    "        Returns\n",
    "        -------\n",
    "        str\n",
    "          separator for output\n",
    "        '''\n",
    "\n",
    "    @sep.setter\n",
    "    def sep(self, value):\n",
    "        '''Sets the separator to use for output.\n",
    "        \n",
    "        Parameters\n",
    "        ----------\n",
    "        sep: str\n",
    "          separator to use for output\n",
    "        '''\n",
    "        self._sep = value\n",
    "\n",
    "    @property\n",
    "    def values(self):\n",
    "        '''Returns the accumulated values of this measure, i.e., all values measured\n",
    "        during the lifetime of the measure up to the call of this method.\n",
    "\n",
    "        Returns\n",
    "        -------\n",
    "        list\n",
    "          values measured up to now (note: a deep copy is returned)\n",
    "        '''\n",
    "        return copy.deepcopy(self._values)\n",
    "\n",
    "    def __len__(self):\n",
    "        '''Returns the number of values measured so far.\n",
    "        \n",
    "        Returns\n",
    "        -------\n",
    "        int\n",
    "          number of values measured so far\n",
    "        '''\n",
    "        return len(self._values)\n",
    "\n",
    "    @property\n",
    "    def current_value(self):\n",
    "        '''Returns a string representation of the most recently measured value, if non-scalar,\n",
    "        components are separated by the `sep` value passed during initialization.\n",
    "\n",
    "        Returns\n",
    "        -------\n",
    "        str\n",
    "          string representation of the most recent value that was measured\n",
    "        '''\n",
    "        value = self._values[-1]\n",
    "        if isinstance(value, collections.abc.Iterable):\n",
    "            return self._sep.join(str(x) for x in value)\n",
    "        else:\n",
    "            return str(value)\n",
    "\n",
    "    @abc.abstractmethod\n",
    "    def compute_value(self, system):\n",
    "        '''Abstract method that has to be implemented to compute the specific measure\n",
    "        that is derived from this class.\n",
    "\n",
    "        Parameters\n",
    "        ----------\n",
    "        system: Any\n",
    "          system to compute the measure on\n",
    "\n",
    "        Returns\n",
    "        -------\n",
    "        Any\n",
    "          the value the measure computes\n",
    "        '''\n",
    "        ...\n",
    "\n",
    "    def __call__(self, system):\n",
    "        '''Computes and stores the value of this measure.  This makes the objects\n",
    "        callable, so a measure `A` on a system `s` can be computed as `A(s)`.\n",
    "\n",
    "        Parameters\n",
    "        ----------\n",
    "        system: Any\n",
    "          system to compute the measure on\n",
    "\n",
    "        Returns\n",
    "        -------\n",
    "        Any\n",
    "          the value the measure computes\n",
    "        '''\n",
    "        value = self.compute_value(system)\n",
    "        self._values.append(value)\n",
    "        return value"
   ]
  },
  {
   "cell_type": "markdown",
   "id": "ebaaa595-6532-49c7-acb7-6f5e7ff0dd00",
   "metadata": {},
   "source": [
    "## Magnetization"
   ]
  },
  {
   "cell_type": "markdown",
   "id": "bd1fea95-e07d-4c47-826d-09697eba57d6",
   "metadata": {},
   "source": [
    "The magnetization of the system is defined by\n",
    "$$\n",
    "    M = \\frac{\\sum_{i=0}^{N-1} s_i}{N}\n",
    "$$"
   ]
  },
  {
   "cell_type": "markdown",
   "id": "6ba352a3-0aa9-47a2-8542-4ac156de0d88",
   "metadata": {},
   "source": [
    "The concrete class `Magnetization` now simply has to implement the `compute_value` method."
   ]
  },
  {
   "cell_type": "code",
   "execution_count": 11,
   "id": "eed317ec-5aaf-4e88-8c6c-34a1e6898ada",
   "metadata": {},
   "outputs": [],
   "source": [
    "class Magnetization(AbstractMeasure):\n",
    "    '''Computes the magnetization of an Ising system.\n",
    "    '''\n",
    "\n",
    "    def __init__(self):\n",
    "        '''Initializes the measure.\n",
    "        '''\n",
    "        super().__init__('magnetization')\n",
    "\n",
    "    def compute_value(self, ising):\n",
    "        '''Computes the value of the magnetization for the given Ising system.\n",
    "\n",
    "        Parameters\n",
    "        ----------\n",
    "        ising: IsingSystem\n",
    "          instance of the `IsingSystem` class\n",
    "\n",
    "        Returns\n",
    "        -------\n",
    "        float\n",
    "          magnetization of the given Ising system\n",
    "        '''\n",
    "        magnetization = 0.0\n",
    "        for i, j in itertools.product(range(ising.nr_rows), range(ising.nr_cols)):\n",
    "            magnetization += ising[i, j]\n",
    "        return magnetization/ising.N"
   ]
  },
  {
   "attachments": {},
   "cell_type": "markdown",
   "id": "44353a9a-56f2-4653-b6cd-100df9a3fe05",
   "metadata": {},
   "source": [
    "To test the measures you define, it is a good idea to use a very small Ising system, so that it is easy to check the results by hand."
   ]
  },
  {
   "cell_type": "code",
   "execution_count": 20,
   "id": "d03ad0a3-7f06-479b-9d55-d1032c25d123",
   "metadata": {},
   "outputs": [],
   "source": [
    "random.seed(1234)"
   ]
  },
  {
   "cell_type": "code",
   "execution_count": 21,
   "id": "5355cecb-a38b-4fc1-b42a-41c7b07784fb",
   "metadata": {},
   "outputs": [],
   "source": [
    "mini_ising = IsingSystem(nr_rows=4, nr_cols=4, J=0.5, h=2.0)"
   ]
  },
  {
   "cell_type": "markdown",
   "id": "676e6fcb-9eae-4b8d-8637-04c9caa08e23",
   "metadata": {},
   "source": [
    "The implementation can now be tested using `mini_ising`."
   ]
  },
  {
   "cell_type": "code",
   "execution_count": 22,
   "id": "e8ef6d91-071a-47ef-b392-f296b6cde930",
   "metadata": {},
   "outputs": [],
   "source": [
    "M = Magnetization()"
   ]
  },
  {
   "cell_type": "code",
   "execution_count": 23,
   "id": "3247c2eb-03cc-4d03-949e-f022a30e950c",
   "metadata": {
    "scrolled": true
   },
   "outputs": [
    {
     "data": {
      "text/plain": [
       "-0.375"
      ]
     },
     "execution_count": 23,
     "metadata": {},
     "output_type": "execute_result"
    }
   ],
   "source": [
    "M(mini_ising)"
   ]
  },
  {
   "cell_type": "code",
   "execution_count": 24,
   "id": "8d88729d-dbd4-48a5-abf0-f1ddc542886e",
   "metadata": {},
   "outputs": [
    {
     "name": "stdout",
     "output_type": "stream",
     "text": [
      "1000\n",
      "0001\n",
      "0000\n",
      "1110\n"
     ]
    }
   ],
   "source": [
    "print(mini_ising)"
   ]
  },
  {
   "cell_type": "markdown",
   "id": "63785ebb-8de6-4540-a8bc-967747416720",
   "metadata": {},
   "source": [
    "The system has 5 spins up ($s_i = 1$) and 11 spins down ($s_i = -1$) while $N = 16$, so the magnetization should be $(5 - 11)/16 = -3/8 = -0.375$ as computed."
   ]
  },
  {
   "cell_type": "code",
   "execution_count": 32,
   "id": "ab636c0d-cf08-4c7e-b4ee-22b114194b5e",
   "metadata": {},
   "outputs": [],
   "source": [
    "del mini_ising, M"
   ]
  },
  {
   "cell_type": "markdown",
   "id": "d2114304-d63b-49d5-beb1-b6b58dec632e",
   "metadata": {},
   "source": [
    "## Energy"
   ]
  },
  {
   "cell_type": "markdown",
   "id": "37015ddd-e551-47ea-b6c3-d86bce53239e",
   "metadata": {},
   "source": [
    "The energy of the system is defined as\n",
    "$$\n",
    "  E = H/N\n",
    "$$"
   ]
  },
  {
   "cell_type": "markdown",
   "id": "af1644ad-fcf4-4ff5-a90f-6243bb52298c",
   "metadata": {},
   "source": [
    "The implementation of the `Energy` class is very similar."
   ]
  },
  {
   "cell_type": "code",
   "execution_count": 25,
   "id": "fd6dbbce-bc93-491a-8ac3-96a864631368",
   "metadata": {},
   "outputs": [],
   "source": [
    "class Energy(AbstractMeasure):\n",
    "    '''Class to compute the energy of an Ising system.\n",
    "    '''\n",
    "\n",
    "    def __init__(self):\n",
    "        '''Initializes the measure.\n",
    "        '''\n",
    "        super().__init__('energy')\n",
    "\n",
    "    def compute_value(self, ising):\n",
    "        '''Computes the value of the energy for the given Ising system.\n",
    "\n",
    "        Parameters\n",
    "        ----------\n",
    "        ising: IsingSystem\n",
    "          instance of the `IsingSystem` class\n",
    "\n",
    "        Returns\n",
    "        -------\n",
    "        float\n",
    "          energy of the given Ising system\n",
    "        '''\n",
    "        J, h = ising.J, ising.h\n",
    "        energy = 0.0\n",
    "        for i, j in itertools.product(range(ising.nr_rows), range(ising.nr_cols)):\n",
    "            energy -= J*ising[i, j]*(ising[i, j + 1] + ising[i + 1, j]) + h*ising[i, j]\n",
    "        return energy/ising.N"
   ]
  },
  {
   "attachments": {},
   "cell_type": "markdown",
   "id": "b023beb7-4de2-4de3-83a9-d2165705868e",
   "metadata": {},
   "source": [
    "To test the measures you define, it is a good idea to use a very small Ising system, so that it is easy to check the results by hand."
   ]
  },
  {
   "cell_type": "code",
   "execution_count": 26,
   "id": "82830bd4-9b42-4b7a-814b-835fa20b803b",
   "metadata": {},
   "outputs": [],
   "source": [
    "random.seed(1234)"
   ]
  },
  {
   "cell_type": "code",
   "execution_count": 28,
   "id": "9abd4c5b-545e-497d-ae24-9a773f078dbf",
   "metadata": {},
   "outputs": [],
   "source": [
    "mini_ising = IsingSystem(nr_rows=4, nr_cols=4, J=0.5, h=2.0)"
   ]
  },
  {
   "cell_type": "code",
   "execution_count": 29,
   "id": "98473b4d-74a2-4808-83b9-bdc67d436c94",
   "metadata": {},
   "outputs": [],
   "source": [
    "E = Energy()"
   ]
  },
  {
   "cell_type": "code",
   "execution_count": 30,
   "id": "7c3374cd-13f2-4791-bcca-4c89eec59b05",
   "metadata": {},
   "outputs": [
    {
     "data": {
      "text/plain": [
       "0.625"
      ]
     },
     "execution_count": 30,
     "metadata": {},
     "output_type": "execute_result"
    }
   ],
   "source": [
    "E(mini_ising)"
   ]
  },
  {
   "cell_type": "code",
   "execution_count": 31,
   "id": "37169d46-f5c4-44c6-ac64-df8023310bce",
   "metadata": {
    "scrolled": true
   },
   "outputs": [
    {
     "name": "stdout",
     "output_type": "stream",
     "text": [
      "1000\n",
      "0001\n",
      "0000\n",
      "1110\n"
     ]
    }
   ],
   "source": [
    "print(mini_ising)"
   ]
  },
  {
   "cell_type": "code",
   "execution_count": 32,
   "id": "a59b0432-7a6d-4744-b038-c0e9811c6769",
   "metadata": {},
   "outputs": [
    {
     "name": "stdout",
     "output_type": "stream",
     "text": [
      "{\n",
      "    'nr_rows': 4,\n",
      "    'nr_cols': 4,\n",
      "    'J': 0.5,\n",
      "    'h': 2.0,\n",
      "}\n"
     ]
    }
   ],
   "source": [
    "print(repr(mini_ising))"
   ]
  },
  {
   "cell_type": "markdown",
   "id": "7d0bd2aa-dc42-4cc5-a817-7fb24e204d02",
   "metadata": {},
   "source": [
    "Again, this checks out, so the implementation could be correct."
   ]
  },
  {
   "cell_type": "code",
   "execution_count": 33,
   "id": "bbec6169-6ffc-4e29-a0fc-b13124343baf",
   "metadata": {},
   "outputs": [],
   "source": [
    "del mini_ising, E"
   ]
  },
  {
   "cell_type": "markdown",
   "id": "775d8ad5-4828-4b77-b76a-2f53e43c3f68",
   "metadata": {},
   "source": [
    "# Dynamics"
   ]
  },
  {
   "cell_type": "markdown",
   "id": "494ab68d-d58d-45e0-9d83-c8b32aaf5e7a",
   "metadata": {},
   "source": [
    "There are several ways to define the dymamics of an Ising system, and you can consider\n",
    "\n",
    "  * Glauber dynamics and\n",
    "  * Metropolis-Hastings dynamics.\n",
    "\n",
    "Both are based on the same Hamiltonian, but differ in the selection of spins to update and transition probabilities."
   ]
  },
  {
   "cell_type": "markdown",
   "id": "7144767a-5fe9-4710-ba13-380538725239",
   "metadata": {},
   "source": [
    "Since both methods share the same Hamiltonian, the energy difference between the original state and a new state where a single spin $i$ is split can be computed by the same function.\n",
    "$$\n",
    "    \\Delta E_{i} = 2 s_i \\left( J \\sum_{\\langle i j \\rangle} s_j + h \\right)\n",
    "$$\n",
    "Again, the sum index $\\langle i, j \\rangle$ runs over *all* neirest neighbors.\n",
    "\n",
    "The dynamics in both cases is considered at an absolute temperature $T$."
   ]
  },
  {
   "cell_type": "code",
   "execution_count": 34,
   "id": "6443bdd7-a8e2-4098-9c33-b2b6115bc2bd",
   "metadata": {},
   "outputs": [],
   "source": [
    "class AbstractStepper(abc.ABC):\n",
    "    '''Abstract base class for steppers.  Derived classes should\n",
    "    implement the `update` method.\n",
    "    '''\n",
    "\n",
    "    def __init__(self, temperature):\n",
    "        '''Initializes the stepper.\n",
    "        \n",
    "        Parameters\n",
    "        ----------\n",
    "        temperature: float\n",
    "          temperature to use in the dynamics\n",
    "        '''\n",
    "        self._temperature = temperature\n",
    "\n",
    "    @property\n",
    "    def T(self):\n",
    "        '''Returns the temperature for the dynamics\n",
    "\n",
    "        Returns\n",
    "        -------\n",
    "        float\n",
    "          temperature of the dynamics\n",
    "        '''\n",
    "        return self._temperature\n",
    "\n",
    "    @staticmethod\n",
    "    def _compute_ΔH(ising, i, j):\n",
    "        '''Computes the energy difference of the Hamiltonian if a spin\n",
    "        were flipped (without actually flipping it).\n",
    "\n",
    "        Parameters\n",
    "        ----------\n",
    "        ising: IsingSystem\n",
    "          Ising system to compute the difference for\n",
    "        i: int\n",
    "          candiate spin's row index\n",
    "        j: int\n",
    "          candiate spin's column index\n",
    "\n",
    "        Returns\n",
    "        -------\n",
    "        float\n",
    "          difference for the Hamiltonian value if the given spin were flipped\n",
    "        '''\n",
    "        return 2*ising[i, j]*(\n",
    "            ising.J*(\n",
    "                ising[i - 1, j] + ising[i, j + 1] + ising[i + 1, j] + ising[i, j - 1]\n",
    "            ) + ising.h\n",
    "        )\n",
    "\n",
    "    @abc.abstractmethod\n",
    "    def update(self, ising, nr_steps=1):\n",
    "        '''Abstract method that updates the Ising system according to the dynamics\n",
    "        specified by the derived classes.\n",
    "\n",
    "        Parameters\n",
    "        ----------\n",
    "        ising: IsingSystem\n",
    "          Ising system to update\n",
    "        nr_steps: int\n",
    "          number of update steps to take, defaults to 1\n",
    "        '''\n",
    "        ..."
   ]
  },
  {
   "cell_type": "markdown",
   "id": "f8c618d6-d282-440e-8bb7-01dea5c1b201",
   "metadata": {},
   "source": [
    "## Glauber dynamics"
   ]
  },
  {
   "cell_type": "markdown",
   "id": "407cf016-4b2a-4f16-b8ec-a5dc9bcc42c9",
   "metadata": {},
   "source": [
    "A step in the Glauber dynamics is defined as follows:\n",
    "\n",
    "  1. pick a spin at random,\n",
    "  2. compute the energy difference $\\Delta E$ when it would be flipped,\n",
    "  3. with probability $\\frac{1}{1 + e^{\\Delta E/T}}$, flip the spin."
   ]
  },
  {
   "cell_type": "code",
   "execution_count": 35,
   "id": "2befe8e6-8de1-4c9e-bea5-2e69784098cb",
   "metadata": {},
   "outputs": [],
   "source": [
    "class GlauberStepper(AbstractStepper):\n",
    "    '''Class that implements a stepper for the Glauber dynamics.\n",
    "    '''\n",
    "\n",
    "    def __init__(self, temperature, ising):\n",
    "        '''Initializes the stepper.\n",
    "        \n",
    "        Parameters\n",
    "        ----------\n",
    "        temperature: float\n",
    "          temperature to use in the dynamics\n",
    "        ising: IsingSystem\n",
    "           Ising system to update\n",
    "        '''\n",
    "        super().__init__(temperature)\n",
    "\n",
    "    def update(self, ising, nr_steps=None):\n",
    "        '''Updates the Ising system according to the Glauber dynamics.\n",
    "\n",
    "        Parameters\n",
    "        ----------\n",
    "        ising: IsingSystem\n",
    "          Ising system to update\n",
    "        nr_steps: int\n",
    "          number of update steps to take, defaults to the number of spins\n",
    "          in the system\n",
    "        '''\n",
    "        if nr_steps is None:\n",
    "            nr_steps = ising.nr_rows*ising.nr_cols\n",
    "        for _ in range(nr_steps):\n",
    "            i = random.randrange(ising.nr_rows)\n",
    "            j = random.randrange(ising.nr_cols)\n",
    "            ΔE = self.__class__._compute_ΔH(ising, i, j)\n",
    "            if random.random() < 1.0/(1.0 + math.exp(ΔE/self._temperature)):\n",
    "                ising[i, j] = -ising[i, j]"
   ]
  },
  {
   "cell_type": "markdown",
   "id": "78ee7902-d235-4c00-8035-ae5fbbbea62c",
   "metadata": {},
   "source": [
    "The process is repeated for as many steps to reach convergence, i.e., thermal equilibrium.  Note that the default number of steps is $N$, the number of spins.  Choosing this default makes it easier to compare the Metropolis-Hastings algorithm that (potentially) updates all spins in a single step."
   ]
  },
  {
   "cell_type": "markdown",
   "id": "801d9588-60c0-4ace-9608-de0cf84ede92",
   "metadata": {},
   "source": [
    "## Metropolis-Hasting dynamics"
   ]
  },
  {
   "cell_type": "markdown",
   "id": "c4253cae-89f6-4ae2-9d8f-727946110bf3",
   "metadata": {},
   "source": [
    "A step in the Metropolos-Hastings dynamics is defined as follows:\n",
    "\n",
    "For each spin (in order):\n",
    "  1. compute the energy difference $\\Delta E$ when it would be flipped,\n",
    "  1. with probability $e^{-\\Delta E/T}$, flip the spin."
   ]
  },
  {
   "cell_type": "code",
   "execution_count": 36,
   "id": "97327a74-b10d-4892-add6-43dbfb438f76",
   "metadata": {},
   "outputs": [],
   "source": [
    "class MetropolisHastingsStepper(AbstractStepper):\n",
    "    '''Class that implements a stepper for the Metropolis-Hastings dynamics.\n",
    "    '''\n",
    "\n",
    "    def __init__(self, temperature):\n",
    "        '''Initializes the stepper.\n",
    "        \n",
    "        Parameters\n",
    "        ----------\n",
    "        temperature: float\n",
    "          temperature to use in the dynamics\n",
    "        '''\n",
    "        super().__init__(temperature)\n",
    "\n",
    "    def update(self, ising, nr_steps=None):\n",
    "        '''Updates the Ising system according to the Metropolis-Hastings dynamics.\n",
    "\n",
    "        Parameters\n",
    "        ----------\n",
    "        ising: IsingSystem\n",
    "          Ising system to update\n",
    "        nr_steps: int\n",
    "          number of update steps to take, defaults to the number of spins\n",
    "          in the system\n",
    "        '''\n",
    "        if nr_steps is None:\n",
    "            nr_steps = 1\n",
    "        for _ in range(nr_steps):\n",
    "            for i, j in itertools.product(range(ising.nr_rows), range(ising.nr_cols)):\n",
    "                ΔE = self.__class__._compute_ΔH(ising, i, j)\n",
    "                if ΔE <= 0.0 or random.random() < math.exp(-ΔE/self._temperature):\n",
    "                    ising[i, j] = -ising[i, j]"
   ]
  },
  {
   "cell_type": "markdown",
   "id": "39c81c9b-4a90-43e2-b892-95efd7320ca0",
   "metadata": {},
   "source": [
    "# Convergence criterion"
   ]
  },
  {
   "cell_type": "markdown",
   "id": "bb210695-04df-449f-b4bb-e56af8e3d9fe",
   "metadata": {},
   "source": [
    "Many convergence criterions can be considered, for instance, the magnetization doesn't change for the last $n$ steps."
   ]
  },
  {
   "cell_type": "code",
   "execution_count": 37,
   "id": "2ee63b6b-567d-4e93-b3a5-490727f539fa",
   "metadata": {},
   "outputs": [],
   "source": [
    "class AbstractIsConverged(abc.ABC):\n",
    "\n",
    "    def __init__(self, measure):\n",
    "        self._measure = measure\n",
    "\n",
    "    @property\n",
    "    def measure(self):\n",
    "        '''Returns the measure used in the convergence criterion.\n",
    "        \n",
    "        Returns\n",
    "        -------\n",
    "        AbstractMeasure\n",
    "          measure used in this convergence criterion\n",
    "          \n",
    "        Note\n",
    "        ----\n",
    "        The measure returned is *not* a copy, it is the actual object.\n",
    "        '''\n",
    "        return self._measure\n",
    "\n",
    "    @abc.abstractmethod\n",
    "    def is_converged(self):\n",
    "        '''Returns `True` if the simulation has converged, `False` otherwise, should\n",
    "        be implemented by derived classes.\n",
    "        \n",
    "        Returns\n",
    "        -------\n",
    "        bool\n",
    "          `True` if the simulation has converged, `False` otherwise\n",
    "        '''\n",
    "        ...\n",
    "\n",
    "    def __call__(self):\n",
    "        '''Returns `True` if the simulation has converged, `False` otherwise.\n",
    "        \n",
    "        Returns\n",
    "        -------\n",
    "        bool\n",
    "          `True` if the simulation has converged, `False` otherwise\n",
    "        '''\n",
    "        return self.is_converged()"
   ]
  },
  {
   "cell_type": "code",
   "execution_count": 39,
   "id": "e33e760c-e55f-4943-b3e7-a6b186588de9",
   "metadata": {},
   "outputs": [],
   "source": [
    "class IsMeasureStable(AbstractIsConverged):\n",
    "    '''Convergence criterion that will stop the simulation if the measure is\n",
    "    constant to within an absolute error for a given number of steps.'''\n",
    "\n",
    "    def __init__(self, *, measure, nr_measurement_steps, delta):\n",
    "        '''Initialize the criterion.\n",
    "        \n",
    "        Parameters\n",
    "        ----------\n",
    "        measure: AbstractMeasure\n",
    "          measure that is used in the simulation\n",
    "        nr_measurement_steps: int\n",
    "          number of measurement steps for which the measure should be constant\n",
    "        delta: float\n",
    "          absolute error to consider the measure to be constant within\n",
    "\n",
    "        Note\n",
    "        ----\n",
    "        This class is only designed to work for scalar measures.\n",
    "        '''\n",
    "        self._measure = measure\n",
    "        self._nr_measurement_steps = nr_measurement_steps\n",
    "        self._delta = delta\n",
    "\n",
    "    def is_converged(self):\n",
    "        '''Returns `True` if the measure remained approximately constant, `False`\n",
    "        otherwise.\n",
    "\n",
    "        Returns\n",
    "        -------\n",
    "        bool\n",
    "          `True` if the measure was approximately constant for the specified number\n",
    "          of measurement steps, `False` otherwise\n",
    "        '''\n",
    "        if len(self._measure) < self._nr_measurement_steps:\n",
    "            return False\n",
    "        values = self._measure.values[-self._nr_measurement_steps:]\n",
    "        mean = statistics.mean(values)\n",
    "        return max(abs(value - mean) for value in values) < self._delta"
   ]
  },
  {
   "cell_type": "markdown",
   "id": "2ba579d4-77c4-4f68-9d94-dcf28c524d03",
   "metadata": {},
   "source": [
    "# Simulation"
   ]
  },
  {
   "cell_type": "markdown",
   "id": "254de867-be37-4942-881c-94ca26c0c7c7",
   "metadata": {},
   "source": [
    "A simulation consists of\n",
    "\n",
    "  1. initializing an Ising system,\n",
    "  2. creating a stepper for the desired dynamics and temperature $T$,\n",
    "  3. updating the system for multiple time steps while printing various measures,\n",
    "  4. stop when either a convergence criterion is met, or a maximum number of steps is reached."
   ]
  },
  {
   "cell_type": "markdown",
   "id": "d5da0e2a-ced6-4440-84bf-34650862ec78",
   "metadata": {},
   "source": [
    "Again, it is convenient to create a class to encapsulate the scaffolding."
   ]
  },
  {
   "cell_type": "code",
   "execution_count": 50,
   "id": "990696f0-1970-40ac-b917-82af57398c94",
   "metadata": {},
   "outputs": [],
   "source": [
    "class Simulation:\n",
    "    '''Class to run simulations with a given initial Ising system, dynamics\n",
    "    and stop criterion.\n",
    "    '''\n",
    "\n",
    "    def __init__(self, *, ising, stepper, is_converged, sep=' '):\n",
    "        '''Initializes the simulation.\n",
    "\n",
    "        Parameters\n",
    "        ----------\n",
    "        ising: IsingSystem\n",
    "          instance of an initialized Ising system\n",
    "        stepper: AbstractStepper\n",
    "          stepper implementation to update the Ising system\n",
    "        is_converged: Callable\n",
    "          callable that returns `True` when the dynamics has converged, `False`\n",
    "          ottherwise\n",
    "        sep: str\n",
    "          separator to use for output, defaults to ' '\n",
    "        '''\n",
    "        self._ising = ising\n",
    "        self._stepper = stepper\n",
    "        self._is_converged = is_converged\n",
    "        self._sep = sep\n",
    "        self._measures = []\n",
    "        self._measure_steps = []\n",
    "        self.add_measures(self._is_converged.measure)\n",
    "\n",
    "    def add_measures(self, *measures):\n",
    "        '''Add measures to the simulation.\n",
    "        \n",
    "        Parameters\n",
    "        ----------\n",
    "        measures: *AbstractMeasure\n",
    "          one or more measures to add to the simulation\n",
    "        '''\n",
    "        # ensure the separator is propagated to each measure, this only\n",
    "        # matters for non-scalar measures\n",
    "        for measure in measures:\n",
    "            measure.sep = self._sep\n",
    "        self._measures.extend(measures)\n",
    "\n",
    "    def _compute_measures(self, step_nr):\n",
    "        '''Computes the measures for the simulation.\n",
    "\n",
    "        Parameters\n",
    "        ----------\n",
    "        step_nr: int\n",
    "          current step number\n",
    "        '''\n",
    "        self._measure_steps.append(step_nr)\n",
    "        values = [str(step_nr)]\n",
    "        for measure in self._measures:\n",
    "            measure(self._ising)\n",
    "            values.append(measure.current_value)\n",
    "        print(self._sep.join(value for value in values))\n",
    "\n",
    "    @property\n",
    "    def measures(self):\n",
    "        '''Returns an iterable over the measures of the simulation.  The\n",
    "        actual values are deep copies of the original measures.\n",
    "\n",
    "        Returns\n",
    "        -------\n",
    "        Iterable[AbstractMeasure]\n",
    "          iterable to deep copies of the measures\n",
    "        '''\n",
    "        return (copy.deepcopy(measure) for measure in self._measures)\n",
    "\n",
    "    @property\n",
    "    def measure_steps(self):\n",
    "        '''Returns the step numbers at which measurements where computed during the run\n",
    "        of the simulation.\n",
    "\n",
    "        Returns\n",
    "        -------\n",
    "        list[int]\n",
    "          deep copy of the list of steps at which measures were computed\n",
    "        '''\n",
    "        return copy.deepcopy(self._measure_steps)\n",
    "\n",
    "    def run(self, *, max_steps, measure_interval=1):\n",
    "        ''' Simulates to convergence, or a maximum number of steps.\n",
    "\n",
    "        Parameters\n",
    "        ----------\n",
    "        max_steps: int\n",
    "          maximum number of simulation steps to perform\n",
    "        measure_interval: int\n",
    "          number of steps between the computation and display of measurements\n",
    "        '''\n",
    "        print('step' + self._sep + self._sep.join(measure.headers for measure in self._measures))    \n",
    "        for step_nr in range(max_steps + 1):\n",
    "            if step_nr % measure_interval == 0:\n",
    "                self._compute_measures(step_nr)\n",
    "                if self._is_converged():\n",
    "                    break\n",
    "            self._stepper.update(self._ising)\n",
    "        if step_nr % measure_interval != 0 and step_nr <= max_steps:\n",
    "            self._compute_measures(step_nr)"
   ]
  },
  {
   "cell_type": "markdown",
   "id": "7d74d743-9e96-4f0f-a2fc-1cee6193ea14",
   "metadata": {},
   "source": [
    "Note that the measure used in the convergence criterion is added automatically."
   ]
  },
  {
   "cell_type": "markdown",
   "id": "f35ecc3d-1ce5-4e0b-bb63-bfa9bfa2c72e",
   "metadata": {},
   "source": [
    "# Simulation run"
   ]
  },
  {
   "cell_type": "markdown",
   "id": "e01d9e02-50e5-4b1f-8762-46b366a894a8",
   "metadata": {},
   "source": [
    "## Glauber dynamics"
   ]
  },
  {
   "cell_type": "markdown",
   "id": "28193261-6f84-43fe-80de-671e50164510",
   "metadata": {},
   "source": [
    "### Ferromagnetic phase"
   ]
  },
  {
   "cell_type": "markdown",
   "id": "f9805d31-8ec3-4038-8ce4-4e6879d66569",
   "metadata": {},
   "source": [
    "First, you can run for $T < T_c$, i.e., the system should be ferromagnetic.  At equilibrium, the magnetization should be very close to 1 if $h > 0$ or -1 if $h < 0$."
   ]
  },
  {
   "cell_type": "markdown",
   "id": "10c5c8ae-4b7f-451f-bc2a-a4ead231fa19",
   "metadata": {},
   "source": [
    "First you can set up a system of $100 \\times 100$ spins with $J = 1$ and $h = 1$."
   ]
  },
  {
   "cell_type": "code",
   "execution_count": 51,
   "id": "4ce070bf-8bbf-49a2-a5fb-a412dbdb5124",
   "metadata": {},
   "outputs": [],
   "source": [
    "random.seed(1234)"
   ]
  },
  {
   "cell_type": "code",
   "execution_count": 52,
   "id": "c2fd28f7-f2da-456e-bbac-880cd034ee6c",
   "metadata": {},
   "outputs": [],
   "source": [
    "ising = IsingSystem(nr_rows=100, nr_cols=100, J=1.0, h=1.0)"
   ]
  },
  {
   "cell_type": "markdown",
   "id": "3fa76c6f-8ddc-4f7c-986e-dba2c09dd6ee",
   "metadata": {},
   "source": [
    "Since you want to use Glauber dynamics, you can create such a stepper with temperature $T = 2$, below the critical temperature $T \\approx 2.27$."
   ]
  },
  {
   "cell_type": "code",
   "execution_count": 53,
   "id": "c19a4dcc-32f6-4c89-b03e-6ebf71259bf4",
   "metadata": {},
   "outputs": [],
   "source": [
    "stepper = GlauberStepper(temperature=2.0, ising=ising)"
   ]
  },
  {
   "cell_type": "markdown",
   "id": "f94eadc2-1751-4a31-a979-336bd8bff5b3",
   "metadata": {},
   "source": [
    "The convergence criterion is that the magnetization remains constant to within $\\delta = 0.001$ for 5 measurement steps."
   ]
  },
  {
   "cell_type": "code",
   "execution_count": 54,
   "id": "5b951fc1-29fb-43d0-81ac-c2df9ce34667",
   "metadata": {},
   "outputs": [],
   "source": [
    "is_converged = IsMeasureStable(\n",
    "    measure=Magnetization(),\n",
    "    nr_measurement_steps=5,\n",
    "    delta=0.001,\n",
    ")"
   ]
  },
  {
   "cell_type": "markdown",
   "id": "3e2418ec-48cf-4227-b673-49b813338745",
   "metadata": {},
   "source": [
    "Now you can create the simulation based on the Ising system, the dynamics, i.e., the stepper and the convergence criterion.  After that, you can add any additional measures you like."
   ]
  },
  {
   "cell_type": "code",
   "execution_count": 55,
   "id": "e51bb5c2-86b9-435f-9d93-90ee10f0fbb6",
   "metadata": {},
   "outputs": [],
   "source": [
    "simulation = Simulation(\n",
    "    ising=ising,\n",
    "    stepper=stepper,\n",
    "    is_converged=is_converged\n",
    ")\n",
    "simulation.add_measures(Energy())"
   ]
  },
  {
   "cell_type": "markdown",
   "id": "141da7b5-4f3c-4f10-809a-51f8795f2490",
   "metadata": {},
   "source": [
    "Now you can run the simulation for at most 500 steps, computing the measures every 10th step."
   ]
  },
  {
   "cell_type": "code",
   "execution_count": 56,
   "id": "44f889be-034c-43d4-a635-5eee0ac95bb6",
   "metadata": {
    "scrolled": true
   },
   "outputs": [
    {
     "name": "stdout",
     "output_type": "stream",
     "text": [
      "step magnetization energy\n",
      "0 -0.0102 0.005\n",
      "10 0.979 -2.9022\n",
      "20 0.9848 -2.9248\n",
      "30 0.983 -2.9178\n",
      "40 0.9826 -2.9154\n",
      "50 0.9842 -2.9258\n",
      "60 0.9788 -2.8988\n",
      "70 0.9842 -2.923\n",
      "80 0.9796 -2.9016\n",
      "90 0.9828 -2.9216\n",
      "100 0.9876 -2.9396\n",
      "110 0.9806 -2.9058\n",
      "120 0.987 -2.937\n",
      "130 0.9848 -2.9264\n",
      "140 0.9832 -2.9208\n",
      "150 0.9796 -2.9056\n",
      "160 0.982 -2.9128\n",
      "170 0.984 -2.9224\n",
      "180 0.9818 -2.9126\n",
      "190 0.982 -2.9144\n",
      "200 0.9846 -2.9266\n",
      "210 0.9852 -2.9284\n",
      "220 0.986 -2.9328\n",
      "230 0.9834 -2.9218\n",
      "240 0.9828 -2.9172\n",
      "250 0.9844 -2.9256\n",
      "260 0.9826 -2.9166\n",
      "270 0.9874 -2.9394\n",
      "280 0.981 -2.911\n",
      "290 0.9872 -2.9372\n",
      "300 0.983 -2.9166\n",
      "310 0.9858 -2.9298\n",
      "320 0.9852 -2.93\n",
      "330 0.9828 -2.9188\n",
      "340 0.9842 -2.9254\n",
      "350 0.9858 -2.9298\n",
      "360 0.9828 -2.9188\n",
      "370 0.982 -2.914\n",
      "380 0.986 -2.9312\n",
      "390 0.9852 -2.9276\n",
      "400 0.981 -2.9078\n",
      "410 0.9818 -2.9146\n",
      "420 0.9858 -2.931\n",
      "430 0.9828 -2.9176\n",
      "440 0.983 -2.919\n",
      "450 0.9824 -2.9156\n",
      "460 0.9826 -2.917\n",
      "470 0.9842 -2.9238\n",
      "480 0.9876 -2.9408\n",
      "490 0.9816 -2.9116\n",
      "500 0.9852 -2.9304\n",
      "CPU times: user 7.69 s, sys: 23.4 ms, total: 7.72 s\n",
      "Wall time: 7.7 s\n"
     ]
    }
   ],
   "source": [
    "%%time\n",
    "simulation.run(max_steps=500, measure_interval=10)"
   ]
  },
  {
   "cell_type": "markdown",
   "id": "3cc8bedd-26e5-4483-81bb-dacd50b453d9",
   "metadata": {},
   "source": [
    "Since the temperature $T < T_{\\mathrm{crit.}}$, the system is in the ferromagnetic phase."
   ]
  },
  {
   "cell_type": "code",
   "execution_count": 43,
   "id": "e2ded424-301f-4743-904f-64af37119b25",
   "metadata": {},
   "outputs": [],
   "source": [
    "del ising, stepper, is_converged, simulation"
   ]
  },
  {
   "cell_type": "markdown",
   "id": "38958218-7614-45fc-9360-ba746040e2f1",
   "metadata": {},
   "source": [
    "### Paramagnetic phase"
   ]
  },
  {
   "cell_type": "markdown",
   "id": "3f1decb3-32ed-4791-aac1-1f9ccbfc22a3",
   "metadata": {},
   "source": [
    "Next, you can do a run for $T > Tc$, i.e., the system should be paramagnetic.  At equilibrium, the magnetization should be significantly different from 1 or -1.  For $N \\to \\infty$, it should be zero."
   ]
  },
  {
   "cell_type": "markdown",
   "id": "311c888a-7f39-448b-abb7-6ef4283cf976",
   "metadata": {},
   "source": [
    "First you can set up a system of $100 \\times 100$ spins with $J = 1$ and $h = 1$."
   ]
  },
  {
   "cell_type": "code",
   "execution_count": 45,
   "id": "e20922e8-41e8-4a5c-8c7d-5e62f6527f91",
   "metadata": {},
   "outputs": [],
   "source": [
    "ising = IsingSystem(nr_rows=100, nr_cols=100, J=1.0, h=1.0, seed=1234)"
   ]
  },
  {
   "cell_type": "markdown",
   "id": "b06bb109-facc-4a1a-9054-e99e938ac6d9",
   "metadata": {},
   "source": [
    "Since you want to use Glauber dynamics, you can create such a stepper with temperature $T = 2.5$, above the critical temperature $T_c \\approx 2.27$."
   ]
  },
  {
   "cell_type": "code",
   "execution_count": 47,
   "id": "98db23eb-3305-4934-9138-955eb29891a7",
   "metadata": {},
   "outputs": [],
   "source": [
    "stepper = GlauberStepper(temperature=5.0, ising=ising)"
   ]
  },
  {
   "cell_type": "markdown",
   "id": "0f1f5f32-7a51-4b5c-bb02-e218eb8a7ce3",
   "metadata": {},
   "source": [
    "The convergence criterion is that the magnetization remains constant to within $\\delta = 0.001$ for 5 measurement steps."
   ]
  },
  {
   "cell_type": "code",
   "execution_count": 48,
   "id": "346f89ef-4f88-4509-a0a9-d7b38b7e0f40",
   "metadata": {},
   "outputs": [],
   "source": [
    "is_converged = IsMeasureStable(\n",
    "    measure=Magnetization(),\n",
    "    nr_measurement_steps=5,\n",
    "    delta=0.001,\n",
    ")"
   ]
  },
  {
   "cell_type": "markdown",
   "id": "04b65011-73dd-4154-8078-928dbb24a65e",
   "metadata": {},
   "source": [
    "Now you can create the simulation based on the Ising system, the dynamics, i.e., the stepper and the convergence criterion.  After that, you can add any additional measures you like."
   ]
  },
  {
   "cell_type": "code",
   "execution_count": 49,
   "id": "3d67235c-f72c-4789-a273-667a81c90df9",
   "metadata": {},
   "outputs": [],
   "source": [
    "simulation = Simulation(\n",
    "    ising=ising,\n",
    "    stepper=stepper,\n",
    "    is_converged=is_converged\n",
    ")\n",
    "simulation.add_measures(Energy())"
   ]
  },
  {
   "cell_type": "markdown",
   "id": "28ac8e9a-2bc9-4a6d-a031-d9dd5a6848fb",
   "metadata": {},
   "source": [
    "Now you can run the simulation for at most 500 steps, computing the measures every 10th step."
   ]
  },
  {
   "cell_type": "code",
   "execution_count": 50,
   "id": "2c1ed2d8-3394-4e02-861a-6f45f6d79a58",
   "metadata": {
    "scrolled": true
   },
   "outputs": [
    {
     "name": "stdout",
     "output_type": "stream",
     "text": [
      "step magnetization energy\n",
      "0 0.0114 -0.0226\n",
      "10 0.4522 -1.1514\n",
      "20 0.4912 -1.2504\n",
      "30 0.498 -1.2644\n",
      "40 0.4802 -1.2138\n",
      "50 0.4652 -1.176\n",
      "60 0.477 -1.2018\n",
      "70 0.5068 -1.2776\n",
      "80 0.4832 -1.2224\n",
      "90 0.5016 -1.2632\n",
      "100 0.4974 -1.2606\n",
      "110 0.461 -1.165\n",
      "120 0.4896 -1.2476\n",
      "130 0.47 -1.1792\n",
      "140 0.4956 -1.2296\n",
      "150 0.466 -1.1608\n",
      "160 0.4698 -1.1938\n",
      "170 0.4928 -1.2372\n",
      "180 0.455 -1.1758\n",
      "190 0.4832 -1.2308\n",
      "200 0.5038 -1.2398\n",
      "210 0.495 -1.265\n",
      "220 0.488 -1.2384\n",
      "230 0.4796 -1.2148\n",
      "240 0.4776 -1.2092\n",
      "250 0.4972 -1.2396\n",
      "260 0.4902 -1.2298\n",
      "270 0.4844 -1.2164\n",
      "280 0.4554 -1.1242\n",
      "290 0.506 -1.2528\n",
      "300 0.4846 -1.2126\n",
      "310 0.4818 -1.2338\n",
      "320 0.486 -1.2384\n",
      "330 0.4834 -1.2294\n",
      "340 0.4836 -1.2128\n",
      "350 0.512 -1.3024\n",
      "360 0.4952 -1.2532\n",
      "370 0.5026 -1.2594\n",
      "380 0.4836 -1.2316\n",
      "390 0.4728 -1.1828\n",
      "400 0.4996 -1.2492\n",
      "410 0.4716 -1.1828\n",
      "420 0.4908 -1.2176\n",
      "430 0.4834 -1.2178\n",
      "440 0.4848 -1.2272\n",
      "450 0.477 -1.2174\n",
      "460 0.4902 -1.2054\n",
      "470 0.4826 -1.203\n",
      "480 0.4838 -1.195\n",
      "490 0.4704 -1.1832\n",
      "500 0.4944 -1.2352\n",
      "500 0.4884 -1.2204\n"
     ]
    }
   ],
   "source": [
    "simulation.run(max_steps=500, measure_interval=10)"
   ]
  },
  {
   "cell_type": "markdown",
   "id": "be9a1115-ca45-4694-9dea-6b94fffd2b4f",
   "metadata": {},
   "source": [
    "Note that the for this temperature, variations in the magnetization are higher, and don't converge to within $\\delta = 0.001$.  However, it is clear that $M \\approx 0.48 < 1$."
   ]
  },
  {
   "cell_type": "code",
   "execution_count": 51,
   "id": "67de5ce1-de2c-42f7-aea6-502a35298591",
   "metadata": {},
   "outputs": [],
   "source": [
    "del ising, stepper, is_converged, simulation"
   ]
  },
  {
   "cell_type": "markdown",
   "id": "a7f7f7c8-4c98-471a-9207-ce0b7f05426d",
   "metadata": {},
   "source": [
    "## Metropolis-Hastings dynamics"
   ]
  },
  {
   "cell_type": "markdown",
   "id": "d1fac941-cd0c-4248-af9d-385c025838d8",
   "metadata": {},
   "source": [
    "You can redo the same simulation, but now with the Metropolis-Hastings dynamics."
   ]
  },
  {
   "cell_type": "markdown",
   "id": "8a8c2813-540b-4531-be6d-dcc9f16cdea3",
   "metadata": {},
   "source": [
    "### Ferromagnetic phase"
   ]
  },
  {
   "cell_type": "markdown",
   "id": "7a01dbd3-56f2-45ce-93a2-2d681190d8ab",
   "metadata": {},
   "source": [
    "First, you can run for $T < T_c$, i.e., the system should be ferromagnetic.  At equilibrium, the magnetization should be very close to 1 if $h > 0$ or -1 if $h < 0$."
   ]
  },
  {
   "cell_type": "markdown",
   "id": "1b0932eb-b4f0-4769-b652-f8d632528e92",
   "metadata": {},
   "source": [
    "First you can set up a system of $100 \\times 100$ spins with $J = 1$ and $h = 1$."
   ]
  },
  {
   "cell_type": "code",
   "execution_count": 53,
   "id": "af5d8dac-6735-4b78-ac81-dd723064757b",
   "metadata": {},
   "outputs": [],
   "source": [
    "ising = IsingSystem(nr_rows=100, nr_cols=100, J=1.0, h=1.0, seed=1234)"
   ]
  },
  {
   "cell_type": "markdown",
   "id": "90649c9b-928a-4bac-8be4-ebeebd6eb4c2",
   "metadata": {},
   "source": [
    "Since you want to use Glauber dynamics, you can create such a stepper with temperature $T = 2$, below the critical temperature $T \\approx 2.27$."
   ]
  },
  {
   "cell_type": "code",
   "execution_count": 54,
   "id": "9428a125-4892-43c3-bd53-c05f4d46980e",
   "metadata": {},
   "outputs": [],
   "source": [
    "stepper = MetropolisHastingsStepper(temperature=2.0)"
   ]
  },
  {
   "cell_type": "markdown",
   "id": "df08b52e-e916-42ae-8597-797ac211e5fd",
   "metadata": {},
   "source": [
    "The convergence criterion is that the magnetization remains constant to within $\\delta = 0.001$ for 5 measurement steps."
   ]
  },
  {
   "cell_type": "code",
   "execution_count": 55,
   "id": "fe7b79a1-152d-48e2-8991-072f54b9674f",
   "metadata": {},
   "outputs": [],
   "source": [
    "is_converged = IsMeasureStable(\n",
    "    measure=Magnetization(),\n",
    "    nr_measurement_steps=5,\n",
    "    delta=0.001,\n",
    ")"
   ]
  },
  {
   "cell_type": "markdown",
   "id": "a353f77d-0f47-4c21-922c-f8c9ba2a9719",
   "metadata": {},
   "source": [
    "Now you can create the simulation based on the Ising system, the dynamics, i.e., the stepper and the convergence criterion.  After that, you can add any additional measures you like."
   ]
  },
  {
   "cell_type": "code",
   "execution_count": 56,
   "id": "30d1b553-35cc-4ac3-aa56-f95a8e174296",
   "metadata": {},
   "outputs": [],
   "source": [
    "simulation = Simulation(\n",
    "    ising=ising,\n",
    "    stepper=stepper,\n",
    "    is_converged=is_converged\n",
    ")\n",
    "simulation.add_measures(Energy())"
   ]
  },
  {
   "cell_type": "markdown",
   "id": "12b60aa1-abca-4ffa-a488-2ccaf4fb6563",
   "metadata": {},
   "source": [
    "Now you can run the simulation for at most 500 steps, computing the measures every 10th step."
   ]
  },
  {
   "cell_type": "code",
   "execution_count": 57,
   "id": "efaaf211-451d-41fd-8639-0e6a985464f4",
   "metadata": {
    "scrolled": true
   },
   "outputs": [
    {
     "name": "stdout",
     "output_type": "stream",
     "text": [
      "step magnetization energy\n",
      "0 0.0114 -0.0226\n",
      "10 0.9816 -2.9124\n",
      "20 0.9832 -2.9196\n",
      "30 0.9814 -2.9126\n",
      "40 0.9836 -2.9212\n",
      "50 0.9828 -2.9172\n",
      "60 0.9806 -2.9078\n",
      "70 0.985 -2.9282\n",
      "80 0.9824 -2.916\n",
      "90 0.9868 -2.936\n",
      "100 0.9836 -2.922\n",
      "110 0.9846 -2.9246\n",
      "120 0.9844 -2.9256\n",
      "130 0.9836 -2.9196\n",
      "140 0.9816 -2.9112\n",
      "150 0.9844 -2.9264\n",
      "160 0.9824 -2.9156\n",
      "170 0.98 -2.9072\n",
      "180 0.9832 -2.9204\n",
      "190 0.9854 -2.9274\n",
      "200 0.9834 -2.9198\n",
      "210 0.9852 -2.9276\n",
      "220 0.9864 -2.936\n",
      "230 0.9856 -2.9292\n",
      "240 0.9834 -2.9206\n",
      "250 0.983 -2.9206\n",
      "260 0.9824 -2.9136\n",
      "270 0.982 -2.9136\n",
      "280 0.9858 -2.9306\n",
      "290 0.9836 -2.922\n",
      "300 0.9836 -2.9216\n",
      "310 0.9826 -2.919\n",
      "320 0.9822 -2.9158\n",
      "330 0.9802 -2.9042\n",
      "340 0.9816 -2.9124\n",
      "350 0.9792 -2.8992\n",
      "360 0.9798 -2.9042\n",
      "370 0.9838 -2.9222\n",
      "380 0.986 -2.9332\n",
      "390 0.9772 -2.8936\n",
      "400 0.984 -2.926\n",
      "410 0.985 -2.931\n",
      "420 0.9844 -2.9244\n",
      "430 0.9832 -2.9204\n",
      "440 0.9828 -2.9176\n",
      "450 0.9856 -2.932\n",
      "460 0.9794 -2.9018\n",
      "470 0.986 -2.934\n",
      "480 0.9902 -2.951\n",
      "490 0.9832 -2.9212\n",
      "500 0.982 -2.9148\n",
      "500 0.9812 -2.9112\n"
     ]
    }
   ],
   "source": [
    "simulation.run(max_steps=500, measure_interval=10)"
   ]
  },
  {
   "cell_type": "markdown",
   "id": "bc98f07e-8594-47dd-a5c3-04380904d2be",
   "metadata": {},
   "source": [
    "The Metropolis-Hastings dynamics shows more variation between measurement steps, and doesn't converge to within $\\delta = 0.001$ withing 500 steps.  It is however also clear that the time taken by an update by the stpper is less than for Glauber dynamics.\n",
    "\n",
    "Although the failure to converge seems to be a drawback at first glance, it will also help to escape local minima, so for large spin systems, the accuracy should be better when compared to analytic results."
   ]
  },
  {
   "cell_type": "code",
   "execution_count": 58,
   "id": "f4484bb4-cef0-4ccb-bbae-873bdf22299d",
   "metadata": {},
   "outputs": [],
   "source": [
    "del ising, stepper, is_converged, simulation"
   ]
  },
  {
   "cell_type": "markdown",
   "id": "de8c57ba-4efb-4c4f-b247-2b1d1c45616a",
   "metadata": {},
   "source": [
    "### Paramagnetic phase"
   ]
  },
  {
   "cell_type": "markdown",
   "id": "30d34473-1846-4023-b96c-c12427e5c6fc",
   "metadata": {},
   "source": [
    "Next, you can do a run for $T > Tc$, i.e., the system should be paramagnetic.  At equilibrium, the magnetization should be significantly different from 1 or -1.  For $N \\to \\infty$, it should be zero."
   ]
  },
  {
   "cell_type": "markdown",
   "id": "ba6b7be5-5c6a-4bce-b010-79a3a7641d4d",
   "metadata": {},
   "source": [
    "First you can set up a system of $100 \\times 100$ spins with $J = 1$ and $h = 1$."
   ]
  },
  {
   "cell_type": "code",
   "execution_count": 59,
   "id": "f6e66add-ce3c-4fcf-9d3e-ad92a5ea4167",
   "metadata": {},
   "outputs": [],
   "source": [
    "ising = IsingSystem(nr_rows=100, nr_cols=100, J=1.0, h=1.0, seed=1234)"
   ]
  },
  {
   "cell_type": "markdown",
   "id": "64442e72-afab-4812-8cda-8c615dfba853",
   "metadata": {},
   "source": [
    "Since you want to use Glauber dynamics, you can create such a stepper with temperature $T = 2.5$, above the critical temperature $T_c \\approx 2.27$."
   ]
  },
  {
   "cell_type": "code",
   "execution_count": 60,
   "id": "93e0662e-e212-477d-a89a-ab6077f4facf",
   "metadata": {},
   "outputs": [],
   "source": [
    "stepper = MetropolisHastingsStepper(temperature=5.0)"
   ]
  },
  {
   "cell_type": "markdown",
   "id": "1e280806-68d6-4b78-8c31-2c0046a174c8",
   "metadata": {},
   "source": [
    "The convergence criterion is that the magnetization remains constant to within $\\delta = 0.001$ for 5 measurement steps."
   ]
  },
  {
   "cell_type": "code",
   "execution_count": 61,
   "id": "89e28e3e-13b3-44db-a15e-70e241fa2bd0",
   "metadata": {},
   "outputs": [],
   "source": [
    "is_converged = IsMeasureStable(\n",
    "    measure=Magnetization(),\n",
    "    nr_measurement_steps=5,\n",
    "    delta=0.001,\n",
    ")"
   ]
  },
  {
   "cell_type": "markdown",
   "id": "ac897f44-d9fc-48dc-8e74-9254ac31c40c",
   "metadata": {},
   "source": [
    "Now you can create the simulation based on the Ising system, the dynamics, i.e., the stepper and the convergence criterion.  After that, you can add any additional measures you like."
   ]
  },
  {
   "cell_type": "code",
   "execution_count": 62,
   "id": "f115d837-8a23-48dc-a3e3-7d27a805f3b5",
   "metadata": {},
   "outputs": [],
   "source": [
    "simulation = Simulation(\n",
    "    ising=ising,\n",
    "    stepper=stepper,\n",
    "    is_converged=is_converged\n",
    ")\n",
    "simulation.add_measures(Energy())"
   ]
  },
  {
   "cell_type": "markdown",
   "id": "84eb9f5e-9514-40ef-adbd-7f14248f711c",
   "metadata": {},
   "source": [
    "Now you can run the simulation for at most 500 steps, computing the measures every 10th step."
   ]
  },
  {
   "cell_type": "code",
   "execution_count": 63,
   "id": "e9761af8-0618-4310-98c7-a76d5f8e5e95",
   "metadata": {
    "scrolled": true
   },
   "outputs": [
    {
     "name": "stdout",
     "output_type": "stream",
     "text": [
      "step magnetization energy\n",
      "0 0.0114 -0.0226\n",
      "10 0.4748 -1.2004\n",
      "20 0.4716 -1.1752\n",
      "30 0.5022 -1.2562\n",
      "40 0.4822 -1.2146\n",
      "50 0.4974 -1.2462\n",
      "60 0.4876 -1.212\n",
      "70 0.5278 -1.3098\n",
      "80 0.4948 -1.244\n",
      "90 0.4898 -1.2286\n",
      "100 0.4778 -1.2094\n",
      "110 0.4696 -1.19\n",
      "120 0.504 -1.2684\n",
      "130 0.4806 -1.205\n",
      "140 0.504 -1.2808\n",
      "150 0.4584 -1.1508\n",
      "160 0.4766 -1.1962\n",
      "170 0.4868 -1.2012\n",
      "180 0.493 -1.2478\n",
      "190 0.484 -1.2268\n",
      "200 0.5026 -1.2538\n",
      "210 0.4886 -1.2398\n",
      "220 0.4714 -1.1934\n",
      "230 0.4968 -1.2484\n",
      "240 0.4764 -1.196\n",
      "250 0.4882 -1.2442\n",
      "260 0.5022 -1.273\n",
      "270 0.5042 -1.2662\n",
      "280 0.4776 -1.204\n",
      "290 0.491 -1.2282\n",
      "300 0.495 -1.2414\n",
      "310 0.461 -1.1766\n",
      "320 0.48 -1.202\n",
      "330 0.4936 -1.242\n",
      "340 0.4748 -1.2048\n",
      "350 0.4814 -1.211\n",
      "360 0.4996 -1.2456\n",
      "370 0.4872 -1.2324\n",
      "380 0.4724 -1.1708\n",
      "390 0.4836 -1.2388\n",
      "400 0.4932 -1.2312\n",
      "410 0.496 -1.232\n",
      "420 0.5018 -1.2618\n",
      "430 0.4864 -1.2536\n",
      "440 0.4672 -1.1836\n",
      "450 0.482 -1.2232\n",
      "460 0.479 -1.229\n",
      "470 0.486 -1.2268\n",
      "480 0.4764 -1.2048\n",
      "490 0.4796 -1.2244\n",
      "500 0.474 -1.194\n",
      "500 0.4748 -1.2008\n"
     ]
    }
   ],
   "source": [
    "simulation.run(max_steps=500, measure_interval=10)"
   ]
  },
  {
   "cell_type": "markdown",
   "id": "4384eda3-dc17-4fce-9c7c-a762a42672ee",
   "metadata": {},
   "source": [
    "As for the ferromagnetic phase, the variation is higher for the Metropolis-Hastings dynamics than for the Glauber dynamics."
   ]
  },
  {
   "cell_type": "code",
   "execution_count": 65,
   "id": "0ead386d-faa0-4a22-b40a-21990664eebe",
   "metadata": {},
   "outputs": [],
   "source": [
    "del ising, stepper, is_converged, simulation"
   ]
  },
  {
   "cell_type": "code",
   "execution_count": null,
   "id": "323782dd-e9d0-48d1-a0b4-8ba778e1e3ad",
   "metadata": {},
   "outputs": [],
   "source": []
  }
 ],
 "metadata": {
  "kernelspec": {
   "display_name": "Python 3 (ipykernel)",
   "language": "python",
   "name": "python3"
  },
  "language_info": {
   "codemirror_mode": {
    "name": "ipython",
    "version": 3
   },
   "file_extension": ".py",
   "mimetype": "text/x-python",
   "name": "python",
   "nbconvert_exporter": "python",
   "pygments_lexer": "ipython3",
   "version": "3.13.5"
  }
 },
 "nbformat": 4,
 "nbformat_minor": 5
}
