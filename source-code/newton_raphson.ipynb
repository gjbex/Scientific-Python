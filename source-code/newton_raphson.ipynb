{
 "cells": [
  {
   "cell_type": "markdown",
   "metadata": {},
   "source": [
    "# Requirements"
   ]
  },
  {
   "cell_type": "code",
   "execution_count": 1,
   "metadata": {},
   "outputs": [],
   "source": [
    "import math\n",
    "import matplotlib.pyplot as plt\n",
    "%matplotlib inline\n",
    "import numpy as np"
   ]
  },
  {
   "cell_type": "markdown",
   "metadata": {},
   "source": [
    "# Newton-Raphson method"
   ]
  },
  {
   "cell_type": "markdown",
   "metadata": {},
   "source": [
    "You want to determine the root of a function $f$, its derivative is $f'$.  Choose an arbitrary start point $x_0$.  In that point, compute the tangent.  Its slope is given by $f'(x_0)$ and it touches the function $f$ in the point $(x_0, f(x_0))$, hence the intercept is given by:\n",
    "$$\n",
    "f(x_0) = f'(x_0) x_0 + b\n",
    "$$\n",
    "or\n",
    "$$\n",
    "b = f(x_0) - f'(x_0) x_0\n",
    "$$\n",
    "So the tangent's equation is\n",
    "$$\n",
    "y = f'(x_0) (x - x_0) + f(x_0)\n",
    "$$\n",
    "It will intercept the $x$-axis in:\n",
    "$$\n",
    "x = x_0 - \\frac{f(x_0)}{f'(x_0)}\n",
    "$$\n",
    "Now use that value as the new starting point and repeat until $f(x_0) < \\epsilon$ for some given toleratoe $\\epsilon$."
   ]
  },
  {
   "cell_type": "code",
   "execution_count": 24,
   "metadata": {},
   "outputs": [],
   "source": [
    "def newton_raphson(f, f_prime, x0, tol=1e-5, max_steps=20, is_verbose=False):\n",
    "    n = 0\n",
    "    while not math.isclose(0.0, abs(f(x0)), abs_tol=tol):\n",
    "        x0 -= f(x0)/f_prime(x0)\n",
    "        n += 1\n",
    "        if is_verbose:\n",
    "            print(f'step {n}: {x0}')\n",
    "        if n > max_steps:\n",
    "            break\n",
    "    return x0, f(x0)"
   ]
  },
  {
   "cell_type": "markdown",
   "metadata": {},
   "source": [
    "# Example"
   ]
  },
  {
   "cell_type": "markdown",
   "metadata": {},
   "source": [
    "Considure a cubic function and its derivative."
   ]
  },
  {
   "cell_type": "code",
   "execution_count": 4,
   "metadata": {},
   "outputs": [],
   "source": [
    "f = lambda x: 3.0*x**3 - 4.0*x**2 - 1.5*x + 0.5\n",
    "f_prime = lambda x: 9.0*x**2 - 8.0*x - 1.5"
   ]
  },
  {
   "cell_type": "markdown",
   "metadata": {},
   "source": [
    "Visualize the function."
   ]
  },
  {
   "cell_type": "code",
   "execution_count": 20,
   "metadata": {},
   "outputs": [
    {
     "data": {
      "image/png": "[encoded data removed]",
      "text/plain": [
       "<Figure size 432x288 with 1 Axes>"
      ]
     },
     "metadata": {
      "needs_background": "light"
     },
     "output_type": "display_data"
    }
   ],
   "source": [
    "x = np.linspace(-1.0, 2.0, 101)\n",
    "_ = plt.plot(x, f(x))"
   ]
  },
  {
   "cell_type": "markdown",
   "metadata": {},
   "source": [
    "Depending on the starting point $x_0$, the algorithm will find one of the three roots of this equations."
   ]
  },
  {
   "cell_type": "code",
   "execution_count": 25,
   "metadata": {},
   "outputs": [
    {
     "name": "stdout",
     "output_type": "stream",
     "text": [
      "step 1: 1.7027027027027026\n",
      "step 2: 1.5971012458578624\n",
      "step 3: 1.5829589308650354\n",
      "step 4: 1.5827125896614378\n"
     ]
    },
    {
     "data": {
      "text/plain": [
       "(1.5827125896614378, 6.217615564629853e-07)"
      ]
     },
     "execution_count": 25,
     "metadata": {},
     "output_type": "execute_result"
    }
   ],
   "source": [
    "newton_raphson(f, f_prime, x0=2.0, is_verbose=True)"
   ]
  },
  {
   "cell_type": "code",
   "execution_count": 26,
   "metadata": {},
   "outputs": [
    {
     "name": "stdout",
     "output_type": "stream",
     "text": [
      "step 1: -0.6774193548387097\n",
      "step 2: -0.5218733905892606\n",
      "step 3: -0.47642083466961965\n",
      "step 4: -0.47235909847454965\n",
      "step 5: -0.4723272512570019\n"
     ]
    },
    {
     "data": {
      "text/plain": [
       "(-0.4723272512570019, -8.368676196468527e-09)"
      ]
     },
     "execution_count": 26,
     "metadata": {},
     "output_type": "execute_result"
    }
   ],
   "source": [
    "newton_raphson(f, f_prime, x0=-1.0, is_verbose=True)"
   ]
  },
  {
   "cell_type": "code",
   "execution_count": 27,
   "metadata": {},
   "outputs": [
    {
     "name": "stdout",
     "output_type": "stream",
     "text": [
      "step 1: 0.3333333333333333\n",
      "step 2: 0.22807017543859645\n",
      "step 3: 0.22296609472606682\n",
      "step 4: 0.22294806737330722\n"
     ]
    },
    {
     "data": {
      "text/plain": [
       "(0.22294806737330722, -6.478128034004271e-10)"
      ]
     },
     "execution_count": 27,
     "metadata": {},
     "output_type": "execute_result"
    }
   ],
   "source": [
    "newton_raphson(f, f_prime, x0=-0.0, is_verbose=True)"
   ]
  },
  {
   "cell_type": "markdown",
   "metadata": {},
   "source": [
    "In each case, the root is found in very few steps with excellent accuracy."
   ]
  },
  {
   "cell_type": "markdown",
   "metadata": {},
   "source": [
    "# Complex values"
   ]
  },
  {
   "cell_type": "markdown",
   "metadata": {},
   "source": [
    "The Newton-Raphson model works equally well in the complex plane."
   ]
  },
  {
   "cell_type": "code",
   "execution_count": 28,
   "metadata": {},
   "outputs": [
    {
     "name": "stdout",
     "output_type": "stream",
     "text": [
      "step 1: (1.4892467940495033-0.188396215616699j)\n",
      "step 2: (1.5304826035597727+0.029904121819097934j)\n",
      "step 3: (1.5849254768371337-0.004364155910204122j)\n",
      "step 4: (1.5826954871977128-2.3644874071061805e-05j)\n",
      "step 5: (1.5827125151641575+9.840732737930282e-10j)\n"
     ]
    },
    {
     "data": {
      "text/plain": [
       "((1.5827125151641575+9.840732737930282e-10j),\n",
       " (-2.757399641950542e-09+8.24959453139763e-09j))"
      ]
     },
     "execution_count": 28,
     "metadata": {},
     "output_type": "execute_result"
    }
   ],
   "source": [
    "newton_raphson(f, f_prime, x0=1.7 - 0.5j, is_verbose=True)"
   ]
  },
  {
   "cell_type": "code",
   "execution_count": 29,
   "metadata": {},
   "outputs": [],
   "source": [
    "def newton_raphson_path(f, f_prime, x0, tol=1e-5, max_steps=20):\n",
    "    x_values = [x0]\n",
    "    n = 0\n",
    "    while not math.isclose(0.0, abs(f(x0)), abs_tol=tol):\n",
    "        x0 -= f(x0)/f_prime(x0)\n",
    "        x_values.append(x0)\n",
    "        n += 1\n",
    "        if n > max_steps:\n",
    "            break\n",
    "    return x_values"
   ]
  },
  {
   "cell_type": "code",
   "execution_count": 33,
   "metadata": {},
   "outputs": [],
   "source": [
    "def plot_newton_raphson_path(x_values):\n",
    "    x = np.array(list(map(lambda x: x.real, x_values)))\n",
    "    y = np.array(list(map(lambda x: x.imag, x_values)))\n",
    "    _ = plt.plot(x, y)"
   ]
  },
  {
   "cell_type": "code",
   "execution_count": 31,
   "metadata": {},
   "outputs": [],
   "source": [
    "x_values = newton_raphson_path(f, f_prime, 2.0 + 0.3j)"
   ]
  },
  {
   "cell_type": "code",
   "execution_count": 34,
   "metadata": {},
   "outputs": [
    {
     "data": {
      "image/png": "[encoded data removed]",
      "text/plain": [
       "<Figure size 432x288 with 1 Axes>"
      ]
     },
     "metadata": {
      "needs_background": "light"
     },
     "output_type": "display_data"
    }
   ],
   "source": [
    "plot_newton_raphson_path(x_values)"
   ]
  },
  {
   "cell_type": "markdown",
   "metadata": {},
   "source": [
    "# Fractals"
   ]
  },
  {
   "cell_type": "markdown",
   "metadata": {},
   "source": [
    "If we label a point with a color according to the root Newton-Raphson will find when we use it as a starting point, we get an interesting fractal.\n",
    "\n",
    "We define a function that assigns values that will be distinct in a heatmap."
   ]
  },
  {
   "cell_type": "code",
   "execution_count": 65,
   "metadata": {},
   "outputs": [],
   "source": [
    "def label(x):\n",
    "    fixpoints = {\n",
    "        0.223: -1.0,\n",
    "        1.583: 0.0,\n",
    "        -0.472: 1.0,\n",
    "    }\n",
    "    for fixpoint, color in fixpoints.items():\n",
    "        if math.isclose(fixpoint, x.real, abs_tol=0.1):\n",
    "            return color\n",
    "    print(f'can not label {x}')"
   ]
  },
  {
   "cell_type": "code",
   "execution_count": null,
   "metadata": {},
   "outputs": [],
   "source": []
  },
  {
   "cell_type": "markdown",
   "metadata": {},
   "source": [
    "Now we can consider the points in the complex plane so that $-2 < real(z) < 2$ and $-2 < imag(z) < 2$."
   ]
  },
  {
   "cell_type": "code",
   "execution_count": 71,
   "metadata": {},
   "outputs": [],
   "source": [
    "re = np.linspace(-2.0, 2.0, 1001)\n",
    "im = np.linspace(-2.0, 2.0, 1001)\n",
    "Re, Im = np.meshgrid(re, im)\n",
    "z = Re + Im*1.0j"
   ]
  },
  {
   "cell_type": "code",
   "execution_count": 72,
   "metadata": {},
   "outputs": [],
   "source": [
    "def compute_label(z):\n",
    "    image = np.empty(z.shape)\n",
    "    for i in range(z.shape[0]):\n",
    "        for j in range(z.shape[1]):\n",
    "            image[i, j] = label(newton_raphson(f, f_prime, z[i, j])[0])\n",
    "    return image"
   ]
  },
  {
   "cell_type": "code",
   "execution_count": 73,
   "metadata": {},
   "outputs": [
    {
     "name": "stdout",
     "output_type": "stream",
     "text": [
      "can not label (1.8648396090944805-0.37253645201815255j)\n",
      "can not label (0.4996230653803892+0.35542421552894127j)\n",
      "can not label (1.9990642363359163+1.0562189970591902j)\n",
      "can not label (0.06849956882581958-0.03665243434974319j)\n",
      "can not label (0.06849956882581958+0.03665243434974319j)\n",
      "can not label (1.9990642363359163-1.0562189970591902j)\n",
      "can not label (0.4996230654022482-0.3554242154217716j)\n",
      "can not label (1.8648396092209354+0.372536452019261j)\n"
     ]
    }
   ],
   "source": [
    "image = compute_label(z)"
   ]
  },
  {
   "cell_type": "code",
   "execution_count": 82,
   "metadata": {},
   "outputs": [
    {
     "data": {
      "image/png": "[encoded data removed]",
      "text/plain": [
       "<Figure size 432x288 with 1 Axes>"
      ]
     },
     "metadata": {
      "needs_background": "light"
     },
     "output_type": "display_data"
    }
   ],
   "source": [
    "_ = plt.imshow(image)\n",
    "_ = plt.xticks(np.linspace(0, image.shape[0], 9), np.linspace(-2.0, 2.0, 9))\n",
    "_ = plt.yticks(np.linspace(0, image.shape[1], 9), np.linspace(-2.0, 2.0, 9))"
   ]
  },
  {
   "cell_type": "code",
   "execution_count": 83,
   "metadata": {},
   "outputs": [],
   "source": [
    "def plot_fractal(f, f_prime, x_min, x_max, y_min, y_max, steps):\n",
    "    re = np.linspace(x_min, x_max, steps)\n",
    "    im = np.linspace(y_min, y_max, steps)\n",
    "    Re, Im = np.meshgrid(re, im)\n",
    "    z = Re + Im*1.0j\n",
    "    image = np.empty(z.shape)\n",
    "    for i in range(z.shape[0]):\n",
    "        for j in range(z.shape[1]):\n",
    "            image[i, j] = label(newton_raphson(f, f_prime, z[i, j])[0])\n",
    "    image = compute_label(z)\n",
    "    _ = plt.imshow(image)\n",
    "    _ = plt.xticks(np.linspace(0, image.shape[0], 9), np.linspace(x_min, x_max, 9))\n",
    "    _ = plt.yticks(np.linspace(0, image.shape[1], 9), np.linspace(y_min, y_max, 9))"
   ]
  },
  {
   "cell_type": "code",
   "execution_count": 88,
   "metadata": {},
   "outputs": [
    {
     "name": "stdout",
     "output_type": "stream",
     "text": [
      "can not label (1.9990642363359163+1.0562189970591902j)\n",
      "can not label (1.9990642363359163-1.0562189970591902j)\n",
      "can not label (1.9990642363359163+1.0562189970591902j)\n",
      "can not label (1.9990642363359163-1.0562189970591902j)\n"
     ]
    },
    {
     "data": {
      "image/png": "[encoded data removed]",
      "text/plain": [
       "<Figure size 432x288 with 1 Axes>"
      ]
     },
     "metadata": {
      "needs_background": "light"
     },
     "output_type": "display_data"
    }
   ],
   "source": [
    "plot_fractal(f, f_prime, -2.0, 2.0, -2.0, 2.0, 501)"
   ]
  },
  {
   "cell_type": "code",
   "execution_count": 87,
   "metadata": {},
   "outputs": [
    {
     "name": "stdout",
     "output_type": "stream",
     "text": [
      "can not label (-0.06683231774682832-0.18170529001509694j)\n",
      "can not label (2.0521267109704975-0.004925884755073853j)\n",
      "can not label (2.0521267109604255+0.0049258847519130615j)\n",
      "can not label (-0.06683231774682832+0.18170529001509694j)\n",
      "can not label (-0.06683231774682832-0.18170529001509694j)\n",
      "can not label (2.0521267109704975-0.004925884755073853j)\n",
      "can not label (2.0521267109604255+0.0049258847519130615j)\n",
      "can not label (-0.06683231774682832+0.18170529001509694j)\n"
     ]
    },
    {
     "data": {
      "image/png": "[encoded data removed]",
      "text/plain": [
       "<Figure size 432x288 with 1 Axes>"
      ]
     },
     "metadata": {
      "needs_background": "light"
     },
     "output_type": "display_data"
    }
   ],
   "source": [
    "plot_fractal(f, f_prime, 0.75, 1.25, -0.25, 0.25, 501)"
   ]
  },
  {
   "cell_type": "code",
   "execution_count": 98,
   "metadata": {},
   "outputs": [],
   "source": [
    "f = lambda x: (x - 1.0 - 1.0j)*(x + 1.5j)*(x - 1.0j)\n",
    "f_prime = lambda x: (x + 1.5j)*(x - 1.0j) + \\\n",
    "                    (x - 1.0 - 1.0j)*(x - 1.0j) + \\\n",
    "                    (x - 1.0 - 1.0j)*(x + 1.5j)"
   ]
  },
  {
   "cell_type": "code",
   "execution_count": 103,
   "metadata": {},
   "outputs": [],
   "source": [
    "def label(x):\n",
    "    fixpoints = {\n",
    "        1.0j: -1.0,\n",
    "        1.0 + 1.0j: 0.0,\n",
    "        -1.5j: 1.0,\n",
    "    }\n",
    "    for fixpoint, color in fixpoints.items():\n",
    "        if math.isclose(fixpoint.real, x.real, abs_tol=0.1) and \\\n",
    "           math.isclose(fixpoint.imag, x.imag, abs_tol=0.1):\n",
    "            return color\n",
    "    print(f'can not label {x}')"
   ]
  },
  {
   "cell_type": "code",
   "execution_count": 104,
   "metadata": {},
   "outputs": [
    {
     "name": "stdout",
     "output_type": "stream",
     "text": [
      "can not label (1.0764052700328621+0.8774530854397731j)\n",
      "can not label (0.3096901416850126+1.0506628190909084j)\n",
      "can not label (2.20334391833127+0.6688124234703527j)\n",
      "can not label (-3.5938962453627044+0.4857839724874602j)\n",
      "can not label (1.121985484615377+1.314933022740644j)\n",
      "can not label (-0.3150107304885432-0.10312544948397678j)\n",
      "can not label (0.24920963893249076+1.3341492481654453j)\n",
      "can not label (0.946104487351297+1.1747508336676242j)\n",
      "can not label (1.0764052700328621+0.8774530854397731j)\n",
      "can not label (0.3096901416850126+1.0506628190909084j)\n",
      "can not label (2.20334391833127+0.6688124234703527j)\n",
      "can not label (-3.5938962453627044+0.4857839724874602j)\n",
      "can not label (1.121985484615377+1.314933022740644j)\n",
      "can not label (-0.3150107304885432-0.10312544948397678j)\n",
      "can not label (0.24920963893249076+1.3341492481654453j)\n",
      "can not label (0.946104487351297+1.1747508336676242j)\n"
     ]
    },
    {
     "data": {
      "image/png": "[encoded data removed]",
      "text/plain": [
       "<Figure size 432x288 with 1 Axes>"
      ]
     },
     "metadata": {
      "needs_background": "light"
     },
     "output_type": "display_data"
    }
   ],
   "source": [
    "plot_fractal(f, f_prime, -2.0, 2.0, -2.0, 2.0, 501)"
   ]
  },
  {
   "cell_type": "code",
   "execution_count": null,
   "metadata": {},
   "outputs": [],
   "source": []
  }
 ],
 "metadata": {
  "kernelspec": {
   "display_name": "Python 3",
   "language": "python",
   "name": "python3"
  },
  "language_info": {
   "codemirror_mode": {
    "name": "ipython",
    "version": 3
   },
   "file_extension": ".py",
   "mimetype": "text/x-python",
   "name": "python",
   "nbconvert_exporter": "python",
   "pygments_lexer": "ipython3",
   "version": "3.7.9"
  }
 },
 "nbformat": 4,
 "nbformat_minor": 4
}
